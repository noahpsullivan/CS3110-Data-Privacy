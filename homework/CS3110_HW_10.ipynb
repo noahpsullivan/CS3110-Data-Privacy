{
 "cells": [
  {
   "cell_type": "markdown",
   "metadata": {},
   "source": [
    "# CS 3110/5110: Data Privacy\n",
    "## Homework 10"
   ]
  },
  {
   "cell_type": "code",
   "execution_count": 277,
   "metadata": {
    "ExecuteTime": {
     "end_time": "2023-11-27T18:52:22.328309600Z",
     "start_time": "2023-11-27T18:52:21.260871600Z"
    }
   },
   "outputs": [],
   "source": [
    "# Load the data and libraries\n",
    "import pandas as pd\n",
    "import numpy as np\n",
    "from scipy import stats\n",
    "import matplotlib.pyplot as plt\n",
    "\n",
    "def laplace_mech(v, sensitivity, epsilon):\n",
    "    return v + np.random.laplace(loc=0, scale=sensitivity / epsilon)\n",
    "\n",
    "def gaussian_mech(v, sensitivity, epsilon, delta):\n",
    "    return v + np.random.normal(loc=0, scale=sensitivity * np.sqrt(2*np.log(1.25/delta)) / epsilon)\n",
    "\n",
    "def gaussian_mech_vec(vec, sensitivity, epsilon, delta):\n",
    "    return [v + np.random.normal(loc=0, scale=sensitivity * np.sqrt(2*np.log(1.25/delta)) / epsilon)\n",
    "            for v in vec]\n",
    "\n",
    "def pct_error(orig, priv):\n",
    "    return np.abs(orig - priv)/orig * 100.0\n",
    "\n",
    "adult = pd.read_csv('https://github.com/jnear/cs3110-data-privacy/raw/main/homework/adult_with_pii.csv')"
   ]
  },
  {
   "cell_type": "markdown",
   "metadata": {},
   "source": [
    "## Question 1 (10 points)\n",
    "\n",
    "Implement a function `dp_marginal` that calculates a differentially private one-way marginal for a given column of the adult dataset."
   ]
  },
  {
   "cell_type": "code",
   "execution_count": 278,
   "metadata": {
    "deletable": false,
    "nbgrader": {
     "cell_type": "code",
     "checksum": "5a9229a59e046a8691155079ac40ade2",
     "grade": false,
     "grade_id": "cell-fe352b0b42ab6343",
     "locked": false,
     "schema_version": 3,
     "solution": true,
     "task": false
    },
    "ExecuteTime": {
     "end_time": "2023-11-27T18:52:23.059390900Z",
     "start_time": "2023-11-27T18:52:23.050527300Z"
    }
   },
   "outputs": [
    {
     "data": {
      "text/plain": "Occupation\nProf-specialty       0.134803\nCraft-repair         0.133452\nExec-managerial      0.132407\nAdm-clerical         0.122736\nSales                0.118858\nOther-service        0.107234\nMachine-op-inspct    0.065102\nTransport-moving     0.051951\nHandlers-cleaners    0.044682\nFarming-fishing      0.032339\nTech-support         0.030170\nProtective-serv      0.021129\nPriv-house-serv      0.004840\nArmed-Forces         0.000297\nName: count, dtype: float64"
     },
     "execution_count": 278,
     "metadata": {},
     "output_type": "execute_result"
    }
   ],
   "source": [
    "def dp_marginal(col, epsilon):\n",
    "    \n",
    "    # Get count of each value\n",
    "    counts = adult[col].value_counts()\n",
    "    \n",
    "    # Apply laplace mechanism to all counts\n",
    "    dp_syn_rep = counts.apply(laplace_mech, args=(1, epsilon))\n",
    "    \n",
    "    # Normalize to probabilities out of 1\n",
    "    dp_syn_rep_nn = np.clip(dp_syn_rep, 0, None)\n",
    "    syn_normalized = dp_syn_rep_nn / np.sum(dp_syn_rep_nn)\n",
    "    \n",
    "    return syn_normalized\n",
    "\n",
    "dp_marginal('Occupation', 1.0)"
   ]
  },
  {
   "cell_type": "code",
   "execution_count": 279,
   "metadata": {
    "deletable": false,
    "editable": false,
    "nbgrader": {
     "cell_type": "code",
     "checksum": "cede97219e6eab45e147872dc3d17ef9",
     "grade": true,
     "grade_id": "cell-a8066080d4cde75d",
     "locked": true,
     "points": 10,
     "schema_version": 3,
     "solution": false,
     "task": false
    },
    "ExecuteTime": {
     "end_time": "2023-11-27T18:52:24.809842400Z",
     "start_time": "2023-11-27T18:52:24.808274800Z"
    }
   },
   "outputs": [],
   "source": [
    "# TEST CASE\n",
    "marginal = dp_marginal('Age', 1.0)\n",
    "assert marginal[36] > 0.02 and marginal[36] < 0.03\n",
    "assert marginal[85] > 0.00005 and marginal[85] < 0.0005\n",
    "\n",
    "marginal = dp_marginal('Occupation', 1.0)\n",
    "assert marginal['Prof-specialty'] > 0.13 and marginal['Prof-specialty'] < 0.14\n",
    "assert marginal['Protective-serv'] > 0.02 and marginal['Protective-serv'] < 0.03"
   ]
  },
  {
   "cell_type": "markdown",
   "metadata": {},
   "source": [
    "## Question 2 (10 points)\n",
    "\n",
    "Implement a function `dp_synthetic_data` that generates `n` samples of synthetic data for the given columns, by creating one-way marginals for *each column* and then sampling synthetic data elements for each column separately."
   ]
  },
  {
   "cell_type": "code",
   "execution_count": 280,
   "metadata": {
    "deletable": false,
    "nbgrader": {
     "cell_type": "code",
     "checksum": "15ba7932dac45bd0865ec483b2855c7e",
     "grade": false,
     "grade_id": "cell-9cddd37233f6c2e4",
     "locked": false,
     "schema_version": 3,
     "solution": true,
     "task": false
    },
    "ExecuteTime": {
     "end_time": "2023-11-27T18:52:26.316533400Z",
     "start_time": "2023-11-27T18:52:26.278830Z"
    }
   },
   "outputs": [
    {
     "data": {
      "text/plain": "    Age         Occupation      Marital Status     Education   Relationship\n0    30    Exec-managerial  Married-civ-spouse  Some-college  Not-in-family\n1    30    Exec-managerial            Divorced       HS-grad        Husband\n2    54    Exec-managerial       Never-married  Some-college  Not-in-family\n3    61       Craft-repair            Divorced       HS-grad        Husband\n4    60       Craft-repair  Married-civ-spouse       HS-grad  Not-in-family\n..  ...                ...                 ...           ...            ...\n95   37    Protective-serv       Never-married     Bachelors        Husband\n96   32  Machine-op-inspct  Married-civ-spouse  Some-college        Husband\n97   74       Tech-support  Married-civ-spouse       7th-8th      Own-child\n98   23              Sales       Never-married       HS-grad        Husband\n99   45     Prof-specialty       Never-married     Bachelors  Not-in-family\n\n[100 rows x 5 columns]",
      "text/html": "<div>\n<style scoped>\n    .dataframe tbody tr th:only-of-type {\n        vertical-align: middle;\n    }\n\n    .dataframe tbody tr th {\n        vertical-align: top;\n    }\n\n    .dataframe thead th {\n        text-align: right;\n    }\n</style>\n<table border=\"1\" class=\"dataframe\">\n  <thead>\n    <tr style=\"text-align: right;\">\n      <th></th>\n      <th>Age</th>\n      <th>Occupation</th>\n      <th>Marital Status</th>\n      <th>Education</th>\n      <th>Relationship</th>\n    </tr>\n  </thead>\n  <tbody>\n    <tr>\n      <th>0</th>\n      <td>30</td>\n      <td>Exec-managerial</td>\n      <td>Married-civ-spouse</td>\n      <td>Some-college</td>\n      <td>Not-in-family</td>\n    </tr>\n    <tr>\n      <th>1</th>\n      <td>30</td>\n      <td>Exec-managerial</td>\n      <td>Divorced</td>\n      <td>HS-grad</td>\n      <td>Husband</td>\n    </tr>\n    <tr>\n      <th>2</th>\n      <td>54</td>\n      <td>Exec-managerial</td>\n      <td>Never-married</td>\n      <td>Some-college</td>\n      <td>Not-in-family</td>\n    </tr>\n    <tr>\n      <th>3</th>\n      <td>61</td>\n      <td>Craft-repair</td>\n      <td>Divorced</td>\n      <td>HS-grad</td>\n      <td>Husband</td>\n    </tr>\n    <tr>\n      <th>4</th>\n      <td>60</td>\n      <td>Craft-repair</td>\n      <td>Married-civ-spouse</td>\n      <td>HS-grad</td>\n      <td>Not-in-family</td>\n    </tr>\n    <tr>\n      <th>...</th>\n      <td>...</td>\n      <td>...</td>\n      <td>...</td>\n      <td>...</td>\n      <td>...</td>\n    </tr>\n    <tr>\n      <th>95</th>\n      <td>37</td>\n      <td>Protective-serv</td>\n      <td>Never-married</td>\n      <td>Bachelors</td>\n      <td>Husband</td>\n    </tr>\n    <tr>\n      <th>96</th>\n      <td>32</td>\n      <td>Machine-op-inspct</td>\n      <td>Married-civ-spouse</td>\n      <td>Some-college</td>\n      <td>Husband</td>\n    </tr>\n    <tr>\n      <th>97</th>\n      <td>74</td>\n      <td>Tech-support</td>\n      <td>Married-civ-spouse</td>\n      <td>7th-8th</td>\n      <td>Own-child</td>\n    </tr>\n    <tr>\n      <th>98</th>\n      <td>23</td>\n      <td>Sales</td>\n      <td>Never-married</td>\n      <td>HS-grad</td>\n      <td>Husband</td>\n    </tr>\n    <tr>\n      <th>99</th>\n      <td>45</td>\n      <td>Prof-specialty</td>\n      <td>Never-married</td>\n      <td>Bachelors</td>\n      <td>Not-in-family</td>\n    </tr>\n  </tbody>\n</table>\n<p>100 rows × 5 columns</p>\n</div>"
     },
     "execution_count": 280,
     "metadata": {},
     "output_type": "execute_result"
    }
   ],
   "source": [
    "def dp_synthetic_data(cols, n, epsilon):\n",
    "    # Empty DataFrame\n",
    "    df = pd.DataFrame()\n",
    "    \n",
    "    for col in cols:\n",
    "        # Get probabilities\n",
    "        marg = dp_marginal(col, epsilon)\n",
    "        \n",
    "        # Generate synthetic data\n",
    "        syn = np.random.choice(marg.keys(), n, p=marg)\n",
    "        \n",
    "        # Add to end of dataframe\n",
    "        df[col] = syn\n",
    "    \n",
    "    return df\n",
    "\n",
    "dp_synthetic_data(['Age', 'Occupation', 'Marital Status', 'Education', 'Relationship'], 100, 1.0)"
   ]
  },
  {
   "cell_type": "code",
   "execution_count": 281,
   "metadata": {
    "deletable": false,
    "editable": false,
    "nbgrader": {
     "cell_type": "code",
     "checksum": "d3e12a218ddeb05709b09da49129e907",
     "grade": true,
     "grade_id": "cell-cf544fd5062af6e4",
     "locked": true,
     "points": 10,
     "schema_version": 3,
     "solution": false,
     "task": false
    },
    "ExecuteTime": {
     "end_time": "2023-11-27T18:52:27.941789600Z",
     "start_time": "2023-11-27T18:52:27.913444500Z"
    }
   },
   "outputs": [],
   "source": [
    "# TEST CASE\n",
    "assert stats.wasserstein_distance(dp_synthetic_data(['Age'], len(adult), 1.0)['Age'], adult['Age']) < 0.2\n",
    "assert stats.wasserstein_distance(dp_synthetic_data(['Education-Num'], len(adult), 1.0)['Education-Num'], \n",
    "                                  adult['Education-Num']) < 0.03"
   ]
  },
  {
   "cell_type": "markdown",
   "metadata": {},
   "source": [
    "## Question 3 (10 points)\n",
    "\n",
    "Implement a function `dp_two_marginal` that builds a 2-way marginal with differential privacy."
   ]
  },
  {
   "cell_type": "code",
   "execution_count": 282,
   "metadata": {
    "deletable": false,
    "nbgrader": {
     "cell_type": "code",
     "checksum": "d6bdb397f5952af4e467448026624dc1",
     "grade": false,
     "grade_id": "cell-b9fee88059cb9189",
     "locked": false,
     "schema_version": 3,
     "solution": true,
     "task": false
    },
    "ExecuteTime": {
     "end_time": "2023-11-27T18:52:29.361124Z",
     "start_time": "2023-11-27T18:52:29.326128500Z"
    }
   },
   "outputs": [
    {
     "data": {
      "text/plain": "        Education         Workclass  probability\n0            10th       Federal-gov     0.000256\n1            10th         Local-gov     0.001035\n2            10th      Never-worked     0.000055\n3            10th           Private     0.022595\n4            10th      Self-emp-inc     0.000632\n..            ...               ...          ...\n123  Some-college           Private     0.165765\n124  Some-college      Self-emp-inc     0.007337\n125  Some-college  Self-emp-not-inc     0.015699\n126  Some-college         State-gov     0.010528\n127  Some-college       Without-pay     0.000122\n\n[128 rows x 3 columns]",
      "text/html": "<div>\n<style scoped>\n    .dataframe tbody tr th:only-of-type {\n        vertical-align: middle;\n    }\n\n    .dataframe tbody tr th {\n        vertical-align: top;\n    }\n\n    .dataframe thead th {\n        text-align: right;\n    }\n</style>\n<table border=\"1\" class=\"dataframe\">\n  <thead>\n    <tr style=\"text-align: right;\">\n      <th></th>\n      <th>Education</th>\n      <th>Workclass</th>\n      <th>probability</th>\n    </tr>\n  </thead>\n  <tbody>\n    <tr>\n      <th>0</th>\n      <td>10th</td>\n      <td>Federal-gov</td>\n      <td>0.000256</td>\n    </tr>\n    <tr>\n      <th>1</th>\n      <td>10th</td>\n      <td>Local-gov</td>\n      <td>0.001035</td>\n    </tr>\n    <tr>\n      <th>2</th>\n      <td>10th</td>\n      <td>Never-worked</td>\n      <td>0.000055</td>\n    </tr>\n    <tr>\n      <th>3</th>\n      <td>10th</td>\n      <td>Private</td>\n      <td>0.022595</td>\n    </tr>\n    <tr>\n      <th>4</th>\n      <td>10th</td>\n      <td>Self-emp-inc</td>\n      <td>0.000632</td>\n    </tr>\n    <tr>\n      <th>...</th>\n      <td>...</td>\n      <td>...</td>\n      <td>...</td>\n    </tr>\n    <tr>\n      <th>123</th>\n      <td>Some-college</td>\n      <td>Private</td>\n      <td>0.165765</td>\n    </tr>\n    <tr>\n      <th>124</th>\n      <td>Some-college</td>\n      <td>Self-emp-inc</td>\n      <td>0.007337</td>\n    </tr>\n    <tr>\n      <th>125</th>\n      <td>Some-college</td>\n      <td>Self-emp-not-inc</td>\n      <td>0.015699</td>\n    </tr>\n    <tr>\n      <th>126</th>\n      <td>Some-college</td>\n      <td>State-gov</td>\n      <td>0.010528</td>\n    </tr>\n    <tr>\n      <th>127</th>\n      <td>Some-college</td>\n      <td>Without-pay</td>\n      <td>0.000122</td>\n    </tr>\n  </tbody>\n</table>\n<p>128 rows × 3 columns</p>\n</div>"
     },
     "execution_count": 282,
     "metadata": {},
     "output_type": "execute_result"
    }
   ],
   "source": [
    "def dp_two_marginal(col1, col2, epsilon):\n",
    "    # Empty dataframe to hold everything\n",
    "    df = pd.DataFrame()\n",
    "    \n",
    "    # Get crosstab\n",
    "    ct = pd.crosstab(adult[col1], adult[col2])\n",
    "    \n",
    "    # Apply laplace mechanism to data in crosstab\n",
    "    dp_ct = ct.applymap(lambda x: max(laplace_mech(x, 1, epsilon), 0))\n",
    "    \n",
    "    # Convert to list of lists\n",
    "    dp_vals = dp_ct.stack().reset_index().values.tolist()\n",
    "    \n",
    "    # Add columns 1 and 2 to dataframe\n",
    "    col1_data = [a for a,_,_ in dp_vals]\n",
    "    col2_data = [b for _,b,_ in dp_vals]\n",
    "    df[col1] = col1_data\n",
    "    df[col2] = col2_data\n",
    "    \n",
    "    # Calculate probabilities and add to dataframe\n",
    "    probs = [p for _,_,p in dp_vals]\n",
    "    probs_norm = probs / np.sum(probs)\n",
    "    df['probability'] = probs_norm\n",
    "    \n",
    "    return df\n",
    "\n",
    "dp_two_marginal('Education', 'Workclass', 1.0)"
   ]
  },
  {
   "cell_type": "code",
   "execution_count": 283,
   "metadata": {
    "deletable": false,
    "editable": false,
    "nbgrader": {
     "cell_type": "code",
     "checksum": "78866899863ff265eaaa68a95b93f3d6",
     "grade": true,
     "grade_id": "cell-cc590e33d1e180e9",
     "locked": true,
     "points": 10,
     "schema_version": 3,
     "solution": false,
     "task": false
    },
    "ExecuteTime": {
     "end_time": "2023-11-27T18:52:31.704334800Z",
     "start_time": "2023-11-27T18:52:31.681397100Z"
    }
   },
   "outputs": [
    {
     "name": "stdout",
     "output_type": "stream",
     "text": [
      "0.25326993130953535 0.006868410824122901\n"
     ]
    }
   ],
   "source": [
    "# TEST CASE\n",
    "marginal = dp_two_marginal('Education', 'Workclass', 1.0)\n",
    "m1 = marginal[(marginal['Education'] == 'HS-grad') & (marginal['Workclass'] == 'Private')]['probability'].values[0]\n",
    "m2 = marginal[(marginal['Education'] == 'Bachelors') & (marginal['Workclass'] == 'Federal-gov')]['probability'].values[0]\n",
    "print(m1, m2)\n",
    "assert m1 > 0.24 and m1 < 0.26\n",
    "assert m2 > 0.005 and m2 < 0.007"
   ]
  },
  {
   "cell_type": "markdown",
   "metadata": {},
   "source": [
    "## Question 4 (30 points)\n",
    "\n",
    "Implement a function `dp_synthetic_data_two_marginal` that generates synthetic data for the `Age`, `Workclass`, `Occupation`, and `Education` columns *while preserving correlations between them* by using overlapping 2-way marginals."
   ]
  },
  {
   "cell_type": "code",
   "execution_count": 284,
   "metadata": {
    "deletable": false,
    "nbgrader": {
     "cell_type": "code",
     "checksum": "b4c808c561d17a5f607189d055ee747b",
     "grade": false,
     "grade_id": "cell-d3a6cd7ee4ee9830",
     "locked": false,
     "schema_version": 3,
     "solution": true,
     "task": false
    },
    "ExecuteTime": {
     "end_time": "2023-11-27T18:52:33.420888800Z",
     "start_time": "2023-11-27T18:52:33.188263200Z"
    }
   },
   "outputs": [
    {
     "data": {
      "text/plain": "     Age Workclass         Occupation     Education\n58    23   Private       Adm-clerical       HS-grad\n211   40   Private   Transport-moving       HS-grad\n166   35   Private       Adm-clerical       HS-grad\n319   52   Private     Prof-specialty       Masters\n148   33   Private  Handlers-cleaners          11th\n..   ...       ...                ...           ...\n211   40   Private      Other-service       HS-grad\n40    21   Private       Adm-clerical  Some-college\n202   39   Private     Prof-specialty   Prof-school\n175   36   Private  Handlers-cleaners          11th\n265   46   Private       Craft-repair    Assoc-acdm\n\n[100 rows x 4 columns]",
      "text/html": "<div>\n<style scoped>\n    .dataframe tbody tr th:only-of-type {\n        vertical-align: middle;\n    }\n\n    .dataframe tbody tr th {\n        vertical-align: top;\n    }\n\n    .dataframe thead th {\n        text-align: right;\n    }\n</style>\n<table border=\"1\" class=\"dataframe\">\n  <thead>\n    <tr style=\"text-align: right;\">\n      <th></th>\n      <th>Age</th>\n      <th>Workclass</th>\n      <th>Occupation</th>\n      <th>Education</th>\n    </tr>\n  </thead>\n  <tbody>\n    <tr>\n      <th>58</th>\n      <td>23</td>\n      <td>Private</td>\n      <td>Adm-clerical</td>\n      <td>HS-grad</td>\n    </tr>\n    <tr>\n      <th>211</th>\n      <td>40</td>\n      <td>Private</td>\n      <td>Transport-moving</td>\n      <td>HS-grad</td>\n    </tr>\n    <tr>\n      <th>166</th>\n      <td>35</td>\n      <td>Private</td>\n      <td>Adm-clerical</td>\n      <td>HS-grad</td>\n    </tr>\n    <tr>\n      <th>319</th>\n      <td>52</td>\n      <td>Private</td>\n      <td>Prof-specialty</td>\n      <td>Masters</td>\n    </tr>\n    <tr>\n      <th>148</th>\n      <td>33</td>\n      <td>Private</td>\n      <td>Handlers-cleaners</td>\n      <td>11th</td>\n    </tr>\n    <tr>\n      <th>...</th>\n      <td>...</td>\n      <td>...</td>\n      <td>...</td>\n      <td>...</td>\n    </tr>\n    <tr>\n      <th>211</th>\n      <td>40</td>\n      <td>Private</td>\n      <td>Other-service</td>\n      <td>HS-grad</td>\n    </tr>\n    <tr>\n      <th>40</th>\n      <td>21</td>\n      <td>Private</td>\n      <td>Adm-clerical</td>\n      <td>Some-college</td>\n    </tr>\n    <tr>\n      <th>202</th>\n      <td>39</td>\n      <td>Private</td>\n      <td>Prof-specialty</td>\n      <td>Prof-school</td>\n    </tr>\n    <tr>\n      <th>175</th>\n      <td>36</td>\n      <td>Private</td>\n      <td>Handlers-cleaners</td>\n      <td>11th</td>\n    </tr>\n    <tr>\n      <th>265</th>\n      <td>46</td>\n      <td>Private</td>\n      <td>Craft-repair</td>\n      <td>Assoc-acdm</td>\n    </tr>\n  </tbody>\n</table>\n<p>100 rows × 4 columns</p>\n</div>"
     },
     "execution_count": 284,
     "metadata": {},
     "output_type": "execute_result"
    }
   ],
   "source": [
    "adult = adult.replace(np.nan, 'None')\n",
    "\n",
    "def dp_synthetic_data_two_marginal(n, epsilon):\n",
    "    \n",
    "    cols = ['Age', 'Workclass', 'Occupation', 'Education']\n",
    "    \n",
    "    # Get marginals\n",
    "    marg0 = dp_two_marginal(cols[0], cols[1], epsilon)\n",
    "    marg1 = dp_two_marginal(cols[1], cols[2], epsilon)\n",
    "    marg2 = dp_two_marginal(cols[2], cols[3], epsilon)\n",
    "    \n",
    "    # Sample initial data from marg0\n",
    "    syn_df = marg0.sample(n, replace=True, weights=marg0['probability'])[[cols[0], cols[1]]]\n",
    "    \n",
    "    # Add Occupation data\n",
    "    occupations = []\n",
    "    \n",
    "    for val in syn_df[cols[1]]:\n",
    "        \n",
    "        # Get data for relevant Workclass\n",
    "        marg1_filter = marg1.loc[marg1[cols[1]] == val].copy()\n",
    "        \n",
    "        # Normalize filtered data\n",
    "        marg1_filter['probability'] = marg1_filter['probability'] / marg1_filter['probability'].sum()\n",
    "        \n",
    "        dp_vals = list(marg1_filter.itertuples(index=False, name=None))\n",
    "        \n",
    "        probs = [p for _,_,p in dp_vals]\n",
    "        vals = [b for _,b,_ in dp_vals]\n",
    "        \n",
    "        indices = range(0, len(vals))\n",
    "        i = np.random.choice(indices, p=probs)\n",
    "        occupations.append(vals[i])\n",
    "        \n",
    "    syn_df[cols[2]] = occupations\n",
    "    \n",
    "    # Add Education data\n",
    "    educations = []\n",
    "    \n",
    "    for val in syn_df[cols[2]]:\n",
    "        # Get data for relevant Occupation\n",
    "        marg2_filter = marg2.loc[marg2[cols[2]] == val].copy()\n",
    "        \n",
    "        # Normalize filtered data\n",
    "        marg2_filter['probability'] = marg2_filter['probability'] / marg2_filter['probability'].sum()\n",
    "        \n",
    "        dp_vals = list(marg2_filter.itertuples(index=False, name=None))\n",
    "        \n",
    "        probs = [p for _,_,p in dp_vals]\n",
    "        vals = [b for _,b,_ in dp_vals]\n",
    "        \n",
    "        indices = range(0, len(vals))\n",
    "        \n",
    "        i = np.random.choice(indices, p=probs)\n",
    "        educations.append(vals[i])\n",
    "        \n",
    "    syn_df[cols[3]] = educations\n",
    "    \n",
    "    return syn_df\n",
    "\n",
    "dp_synthetic_data_two_marginal(100, 1.0)"
   ]
  },
  {
   "cell_type": "code",
   "execution_count": 285,
   "metadata": {
    "deletable": false,
    "editable": false,
    "nbgrader": {
     "cell_type": "code",
     "checksum": "8ae034b1e51db70c7b44a6e6117083b6",
     "grade": true,
     "grade_id": "cell-3f4ef7adf2649b50",
     "locked": true,
     "points": 30,
     "schema_version": 3,
     "solution": false,
     "task": false
    },
    "ExecuteTime": {
     "end_time": "2023-11-27T18:52:36.056990100Z",
     "start_time": "2023-11-27T18:52:35.849339900Z"
    }
   },
   "outputs": [
    {
     "name": "stdout",
     "output_type": "stream",
     "text": [
      "38.31 68 13 13\n"
     ]
    }
   ],
   "source": [
    "# TEST CASE\n",
    "synthetic_data = dp_synthetic_data_two_marginal(100, 1.0)\n",
    "\n",
    "s1 = synthetic_data['Age'].mean()\n",
    "s2 = len(synthetic_data[synthetic_data['Workclass'] == 'Private'])\n",
    "s3 = len(synthetic_data[synthetic_data['Occupation'] == 'Adm-clerical'])\n",
    "s4 = len(synthetic_data[synthetic_data['Education'] == 'Bachelors'])\n",
    "\n",
    "print(s1, s2, s3, s4)\n",
    "\n",
    "assert s1 > 35 and s1 < 45\n",
    "assert s2 > 65 and s2 < 90\n",
    "assert s3 > 5 and s3 < 25\n",
    "assert s4 > 5 and s4 < 35"
   ]
  }
 ],
 "metadata": {
  "kernelspec": {
   "display_name": "Python 3 (ipykernel)",
   "language": "python",
   "name": "python3"
  },
  "language_info": {
   "codemirror_mode": {
    "name": "ipython",
    "version": 3
   },
   "file_extension": ".py",
   "mimetype": "text/x-python",
   "name": "python",
   "nbconvert_exporter": "python",
   "pygments_lexer": "ipython3",
   "version": "3.10.12"
  }
 },
 "nbformat": 4,
 "nbformat_minor": 4
}
