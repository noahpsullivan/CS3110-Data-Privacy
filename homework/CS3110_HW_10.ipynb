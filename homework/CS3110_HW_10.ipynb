{
 "cells": [
  {
   "cell_type": "markdown",
   "metadata": {},
   "source": [
    "# CS 3110/5110: Data Privacy\n",
    "## Homework 10"
   ]
  },
  {
   "cell_type": "code",
   "execution_count": 1,
   "metadata": {
    "ExecuteTime": {
     "end_time": "2023-11-26T19:23:23.601526400Z",
     "start_time": "2023-11-26T19:23:20.332557100Z"
    }
   },
   "outputs": [],
   "source": [
    "# Load the data and libraries\n",
    "import pandas as pd\n",
    "import numpy as np\n",
    "from scipy import stats\n",
    "import matplotlib.pyplot as plt\n",
    "\n",
    "def laplace_mech(v, sensitivity, epsilon):\n",
    "    return v + np.random.laplace(loc=0, scale=sensitivity / epsilon)\n",
    "\n",
    "def gaussian_mech(v, sensitivity, epsilon, delta):\n",
    "    return v + np.random.normal(loc=0, scale=sensitivity * np.sqrt(2*np.log(1.25/delta)) / epsilon)\n",
    "\n",
    "def gaussian_mech_vec(vec, sensitivity, epsilon, delta):\n",
    "    return [v + np.random.normal(loc=0, scale=sensitivity * np.sqrt(2*np.log(1.25/delta)) / epsilon)\n",
    "            for v in vec]\n",
    "\n",
    "def pct_error(orig, priv):\n",
    "    return np.abs(orig - priv)/orig * 100.0\n",
    "\n",
    "adult = pd.read_csv('https://github.com/jnear/cs3110-data-privacy/raw/main/homework/adult_with_pii.csv')"
   ]
  },
  {
   "cell_type": "markdown",
   "metadata": {},
   "source": [
    "## Question 1 (10 points)\n",
    "\n",
    "Implement a function `dp_marginal` that calculates a differentially private one-way marginal for a given column of the adult dataset."
   ]
  },
  {
   "cell_type": "code",
   "execution_count": 5,
   "metadata": {
    "deletable": false,
    "nbgrader": {
     "cell_type": "code",
     "checksum": "5a9229a59e046a8691155079ac40ade2",
     "grade": false,
     "grade_id": "cell-fe352b0b42ab6343",
     "locked": false,
     "schema_version": 3,
     "solution": true,
     "task": false
    },
    "ExecuteTime": {
     "end_time": "2023-11-26T19:25:39.819493300Z",
     "start_time": "2023-11-26T19:25:39.787269500Z"
    }
   },
   "outputs": [
    {
     "data": {
      "text/plain": "Occupation\nProf-specialty       0.134782\nCraft-repair         0.133452\nExec-managerial      0.132374\nAdm-clerical         0.122793\nSales                0.118881\nOther-service        0.107302\nMachine-op-inspct    0.065194\nTransport-moving     0.051805\nHandlers-cleaners    0.044609\nFarming-fishing      0.032362\nTech-support         0.030211\nProtective-serv      0.021057\nPriv-house-serv      0.004856\nArmed-Forces         0.000322\nName: count, dtype: float64"
     },
     "execution_count": 5,
     "metadata": {},
     "output_type": "execute_result"
    }
   ],
   "source": [
    "def dp_marginal(col, epsilon):\n",
    "    \n",
    "    # Get count of each value\n",
    "    counts = adult[col].value_counts()\n",
    "    \n",
    "    # Apply laplace mechanism to all counts\n",
    "    dp_syn_rep = counts.apply(laplace_mech, args=(1, epsilon))\n",
    "    \n",
    "    # Normalize to probabilities out of 1\n",
    "    dp_syn_rep_nn = np.clip(dp_syn_rep, 0, None)\n",
    "    syn_normalized = dp_syn_rep_nn / np.sum(dp_syn_rep_nn)\n",
    "    \n",
    "    return syn_normalized\n",
    "\n",
    "dp_marginal('Occupation', 1.0)"
   ]
  },
  {
   "cell_type": "code",
   "execution_count": 6,
   "metadata": {
    "deletable": false,
    "editable": false,
    "nbgrader": {
     "cell_type": "code",
     "checksum": "cede97219e6eab45e147872dc3d17ef9",
     "grade": true,
     "grade_id": "cell-a8066080d4cde75d",
     "locked": true,
     "points": 10,
     "schema_version": 3,
     "solution": false,
     "task": false
    },
    "ExecuteTime": {
     "end_time": "2023-11-26T19:25:41.711640600Z",
     "start_time": "2023-11-26T19:25:41.702285700Z"
    }
   },
   "outputs": [],
   "source": [
    "# TEST CASE\n",
    "marginal = dp_marginal('Age', 1.0)\n",
    "assert marginal[36] > 0.02 and marginal[36] < 0.03\n",
    "assert marginal[85] > 0.00005 and marginal[85] < 0.0005\n",
    "\n",
    "marginal = dp_marginal('Occupation', 1.0)\n",
    "assert marginal['Prof-specialty'] > 0.13 and marginal['Prof-specialty'] < 0.14\n",
    "assert marginal['Protective-serv'] > 0.02 and marginal['Protective-serv'] < 0.03"
   ]
  },
  {
   "cell_type": "markdown",
   "metadata": {},
   "source": [
    "## Question 2 (10 points)\n",
    "\n",
    "Implement a function `dp_synthetic_data` that generates `n` samples of synthetic data for the given columns, by creating one-way marginals for *each column* and then sampling synthetic data elements for each column separately."
   ]
  },
  {
   "cell_type": "code",
   "execution_count": 15,
   "metadata": {
    "deletable": false,
    "nbgrader": {
     "cell_type": "code",
     "checksum": "15ba7932dac45bd0865ec483b2855c7e",
     "grade": false,
     "grade_id": "cell-9cddd37233f6c2e4",
     "locked": false,
     "schema_version": 3,
     "solution": true,
     "task": false
    },
    "ExecuteTime": {
     "end_time": "2023-11-26T19:37:47.152526600Z",
     "start_time": "2023-11-26T19:37:47.122021500Z"
    }
   },
   "outputs": [
    {
     "data": {
      "text/plain": "    Age         Occupation         Marital Status     Education   Relationship\n0    34   Transport-moving     Married-civ-spouse       7th-8th  Not-in-family\n1    39       Tech-support  Married-spouse-absent       5th-6th  Not-in-family\n2    36      Other-service     Married-civ-spouse  Some-college  Not-in-family\n3    50       Adm-clerical     Married-civ-spouse       HS-grad  Not-in-family\n4    25  Machine-op-inspct          Never-married   Prof-school        Husband\n..  ...                ...                    ...           ...            ...\n95   51     Prof-specialty     Married-civ-spouse       HS-grad        Husband\n96   35       Adm-clerical          Never-married          10th  Not-in-family\n97   22    Protective-serv     Married-civ-spouse          11th        Husband\n98   21       Craft-repair     Married-civ-spouse       HS-grad        Husband\n99   47      Other-service     Married-civ-spouse       HS-grad        Husband\n\n[100 rows x 5 columns]",
      "text/html": "<div>\n<style scoped>\n    .dataframe tbody tr th:only-of-type {\n        vertical-align: middle;\n    }\n\n    .dataframe tbody tr th {\n        vertical-align: top;\n    }\n\n    .dataframe thead th {\n        text-align: right;\n    }\n</style>\n<table border=\"1\" class=\"dataframe\">\n  <thead>\n    <tr style=\"text-align: right;\">\n      <th></th>\n      <th>Age</th>\n      <th>Occupation</th>\n      <th>Marital Status</th>\n      <th>Education</th>\n      <th>Relationship</th>\n    </tr>\n  </thead>\n  <tbody>\n    <tr>\n      <th>0</th>\n      <td>34</td>\n      <td>Transport-moving</td>\n      <td>Married-civ-spouse</td>\n      <td>7th-8th</td>\n      <td>Not-in-family</td>\n    </tr>\n    <tr>\n      <th>1</th>\n      <td>39</td>\n      <td>Tech-support</td>\n      <td>Married-spouse-absent</td>\n      <td>5th-6th</td>\n      <td>Not-in-family</td>\n    </tr>\n    <tr>\n      <th>2</th>\n      <td>36</td>\n      <td>Other-service</td>\n      <td>Married-civ-spouse</td>\n      <td>Some-college</td>\n      <td>Not-in-family</td>\n    </tr>\n    <tr>\n      <th>3</th>\n      <td>50</td>\n      <td>Adm-clerical</td>\n      <td>Married-civ-spouse</td>\n      <td>HS-grad</td>\n      <td>Not-in-family</td>\n    </tr>\n    <tr>\n      <th>4</th>\n      <td>25</td>\n      <td>Machine-op-inspct</td>\n      <td>Never-married</td>\n      <td>Prof-school</td>\n      <td>Husband</td>\n    </tr>\n    <tr>\n      <th>...</th>\n      <td>...</td>\n      <td>...</td>\n      <td>...</td>\n      <td>...</td>\n      <td>...</td>\n    </tr>\n    <tr>\n      <th>95</th>\n      <td>51</td>\n      <td>Prof-specialty</td>\n      <td>Married-civ-spouse</td>\n      <td>HS-grad</td>\n      <td>Husband</td>\n    </tr>\n    <tr>\n      <th>96</th>\n      <td>35</td>\n      <td>Adm-clerical</td>\n      <td>Never-married</td>\n      <td>10th</td>\n      <td>Not-in-family</td>\n    </tr>\n    <tr>\n      <th>97</th>\n      <td>22</td>\n      <td>Protective-serv</td>\n      <td>Married-civ-spouse</td>\n      <td>11th</td>\n      <td>Husband</td>\n    </tr>\n    <tr>\n      <th>98</th>\n      <td>21</td>\n      <td>Craft-repair</td>\n      <td>Married-civ-spouse</td>\n      <td>HS-grad</td>\n      <td>Husband</td>\n    </tr>\n    <tr>\n      <th>99</th>\n      <td>47</td>\n      <td>Other-service</td>\n      <td>Married-civ-spouse</td>\n      <td>HS-grad</td>\n      <td>Husband</td>\n    </tr>\n  </tbody>\n</table>\n<p>100 rows × 5 columns</p>\n</div>"
     },
     "execution_count": 15,
     "metadata": {},
     "output_type": "execute_result"
    }
   ],
   "source": [
    "def dp_synthetic_data(cols, n, epsilon):\n",
    "    # Empty DataFrame\n",
    "    df = pd.DataFrame()\n",
    "    \n",
    "    for col in cols:\n",
    "        # Get probabilities\n",
    "        marg = dp_marginal(col, epsilon)\n",
    "        \n",
    "        # Generate synthetic data\n",
    "        syn = np.random.choice(marg.keys(), n,p=marg)\n",
    "        \n",
    "        # Add to end of dataframe\n",
    "        df[col] = syn\n",
    "    \n",
    "    return df\n",
    "\n",
    "dp_synthetic_data(['Age', 'Occupation', 'Marital Status', 'Education', 'Relationship'], 100, 1.0)"
   ]
  },
  {
   "cell_type": "code",
   "execution_count": 16,
   "metadata": {
    "deletable": false,
    "editable": false,
    "nbgrader": {
     "cell_type": "code",
     "checksum": "d3e12a218ddeb05709b09da49129e907",
     "grade": true,
     "grade_id": "cell-cf544fd5062af6e4",
     "locked": true,
     "points": 10,
     "schema_version": 3,
     "solution": false,
     "task": false
    },
    "ExecuteTime": {
     "end_time": "2023-11-26T19:37:48.917879500Z",
     "start_time": "2023-11-26T19:37:48.879351500Z"
    }
   },
   "outputs": [],
   "source": [
    "# TEST CASE\n",
    "assert stats.wasserstein_distance(dp_synthetic_data(['Age'], len(adult), 1.0)['Age'], adult['Age']) < 0.2\n",
    "assert stats.wasserstein_distance(dp_synthetic_data(['Education-Num'], len(adult), 1.0)['Education-Num'], \n",
    "                                  adult['Education-Num']) < 0.03"
   ]
  },
  {
   "cell_type": "markdown",
   "metadata": {},
   "source": [
    "## Question 3 (10 points)\n",
    "\n",
    "Implement a function `dp_two_marginal` that builds a 2-way marginal with differential privacy."
   ]
  },
  {
   "cell_type": "code",
   "execution_count": 32,
   "metadata": {
    "deletable": false,
    "nbgrader": {
     "cell_type": "code",
     "checksum": "d6bdb397f5952af4e467448026624dc1",
     "grade": false,
     "grade_id": "cell-b9fee88059cb9189",
     "locked": false,
     "schema_version": 3,
     "solution": true,
     "task": false
    },
    "ExecuteTime": {
     "end_time": "2023-11-26T19:48:53.339725700Z",
     "start_time": "2023-11-26T19:48:53.302903700Z"
    }
   },
   "outputs": [
    {
     "data": {
      "text/plain": "        Education         Workclass  probability\n0            10th       Federal-gov     0.000234\n1            10th         Local-gov     0.001028\n2            10th      Never-worked     0.000085\n3            10th           Private     0.022614\n4            10th      Self-emp-inc     0.000629\n..            ...               ...          ...\n123  Some-college           Private     0.165746\n124  Some-college      Self-emp-inc     0.007347\n125  Some-college  Self-emp-not-inc     0.015834\n126  Some-college         State-gov     0.010577\n127  Some-college       Without-pay     0.000126\n\n[128 rows x 3 columns]",
      "text/html": "<div>\n<style scoped>\n    .dataframe tbody tr th:only-of-type {\n        vertical-align: middle;\n    }\n\n    .dataframe tbody tr th {\n        vertical-align: top;\n    }\n\n    .dataframe thead th {\n        text-align: right;\n    }\n</style>\n<table border=\"1\" class=\"dataframe\">\n  <thead>\n    <tr style=\"text-align: right;\">\n      <th></th>\n      <th>Education</th>\n      <th>Workclass</th>\n      <th>probability</th>\n    </tr>\n  </thead>\n  <tbody>\n    <tr>\n      <th>0</th>\n      <td>10th</td>\n      <td>Federal-gov</td>\n      <td>0.000234</td>\n    </tr>\n    <tr>\n      <th>1</th>\n      <td>10th</td>\n      <td>Local-gov</td>\n      <td>0.001028</td>\n    </tr>\n    <tr>\n      <th>2</th>\n      <td>10th</td>\n      <td>Never-worked</td>\n      <td>0.000085</td>\n    </tr>\n    <tr>\n      <th>3</th>\n      <td>10th</td>\n      <td>Private</td>\n      <td>0.022614</td>\n    </tr>\n    <tr>\n      <th>4</th>\n      <td>10th</td>\n      <td>Self-emp-inc</td>\n      <td>0.000629</td>\n    </tr>\n    <tr>\n      <th>...</th>\n      <td>...</td>\n      <td>...</td>\n      <td>...</td>\n    </tr>\n    <tr>\n      <th>123</th>\n      <td>Some-college</td>\n      <td>Private</td>\n      <td>0.165746</td>\n    </tr>\n    <tr>\n      <th>124</th>\n      <td>Some-college</td>\n      <td>Self-emp-inc</td>\n      <td>0.007347</td>\n    </tr>\n    <tr>\n      <th>125</th>\n      <td>Some-college</td>\n      <td>Self-emp-not-inc</td>\n      <td>0.015834</td>\n    </tr>\n    <tr>\n      <th>126</th>\n      <td>Some-college</td>\n      <td>State-gov</td>\n      <td>0.010577</td>\n    </tr>\n    <tr>\n      <th>127</th>\n      <td>Some-college</td>\n      <td>Without-pay</td>\n      <td>0.000126</td>\n    </tr>\n  </tbody>\n</table>\n<p>128 rows × 3 columns</p>\n</div>"
     },
     "execution_count": 32,
     "metadata": {},
     "output_type": "execute_result"
    }
   ],
   "source": [
    "def dp_two_marginal(col1, col2, epsilon):\n",
    "    # Empty dataframe to hold everything\n",
    "    df = pd.DataFrame()\n",
    "    \n",
    "    # Get crosstab\n",
    "    ct = pd.crosstab(adult[col1], adult[col2])\n",
    "    \n",
    "    # Apply laplace mechanism to data in crosstab\n",
    "    dp_ct = ct.applymap(lambda x: max(laplace_mech(x, 1, epsilon), 0))\n",
    "    \n",
    "    # Convert to list of lists\n",
    "    dp_vals = dp_ct.stack().reset_index().values.tolist()\n",
    "    \n",
    "    # Add columns 1 and 2 to dataframe\n",
    "    col1_data = [a for a,_,_ in dp_vals]\n",
    "    col2_data = [b for _,b,_ in dp_vals]\n",
    "    df[col1] = col1_data\n",
    "    df[col2] = col2_data\n",
    "    \n",
    "    # Calculate probabilities and add to dataframe\n",
    "    probs = [p for _,_,p in dp_vals]\n",
    "    probs_norm = probs / np.sum(probs)\n",
    "    df['probability'] = probs_norm\n",
    "    \n",
    "    return df\n",
    "\n",
    "dp_two_marginal('Education', 'Workclass', 1.0)"
   ]
  },
  {
   "cell_type": "code",
   "execution_count": 33,
   "metadata": {
    "deletable": false,
    "editable": false,
    "nbgrader": {
     "cell_type": "code",
     "checksum": "78866899863ff265eaaa68a95b93f3d6",
     "grade": true,
     "grade_id": "cell-cc590e33d1e180e9",
     "locked": true,
     "points": 10,
     "schema_version": 3,
     "solution": false,
     "task": false
    },
    "ExecuteTime": {
     "end_time": "2023-11-26T19:48:57.921621500Z",
     "start_time": "2023-11-26T19:48:57.896762900Z"
    }
   },
   "outputs": [
    {
     "name": "stdout",
     "output_type": "stream",
     "text": [
      "0.2530754267939819 0.006868817972162109\n"
     ]
    }
   ],
   "source": [
    "# TEST CASE\n",
    "marginal = dp_two_marginal('Education', 'Workclass', 1.0)\n",
    "m1 = marginal[(marginal['Education'] == 'HS-grad') & (marginal['Workclass'] == 'Private')]['probability'].values[0]\n",
    "m2 = marginal[(marginal['Education'] == 'Bachelors') & (marginal['Workclass'] == 'Federal-gov')]['probability'].values[0]\n",
    "print(m1, m2)\n",
    "assert m1 > 0.24 and m1 < 0.26\n",
    "assert m2 > 0.005 and m2 < 0.007"
   ]
  },
  {
   "cell_type": "markdown",
   "metadata": {},
   "source": [
    "## Question 4 (30 points)\n",
    "\n",
    "Implement a function `dp_synthetic_data_two_marginal` that generates synthetic data for the `Age`, `Workclass`, `Occupation`, and `Education` columns *while preserving correlations between them* by using overlapping 2-way marginals."
   ]
  },
  {
   "cell_type": "code",
   "execution_count": null,
   "metadata": {
    "deletable": false,
    "nbgrader": {
     "cell_type": "code",
     "checksum": "b4c808c561d17a5f607189d055ee747b",
     "grade": false,
     "grade_id": "cell-d3a6cd7ee4ee9830",
     "locked": false,
     "schema_version": 3,
     "solution": true,
     "task": false
    }
   },
   "outputs": [],
   "source": [
    "def dp_synthetic_data_two_marginal(n, epsilon):\n",
    "    # YOUR CODE HERE\n",
    "    raise NotImplementedError()\n",
    "\n",
    "dp_synthetic_data_two_marginal(100, 1.0)"
   ]
  },
  {
   "cell_type": "code",
   "execution_count": null,
   "metadata": {
    "deletable": false,
    "editable": false,
    "nbgrader": {
     "cell_type": "code",
     "checksum": "8ae034b1e51db70c7b44a6e6117083b6",
     "grade": true,
     "grade_id": "cell-3f4ef7adf2649b50",
     "locked": true,
     "points": 30,
     "schema_version": 3,
     "solution": false,
     "task": false
    }
   },
   "outputs": [],
   "source": [
    "# TEST CASE\n",
    "synthetic_data = dp_synthetic_data_two_marginal(100, 1.0)\n",
    "\n",
    "s1 = synthetic_data['Age'].mean()\n",
    "s2 = len(synthetic_data[synthetic_data['Workclass'] == 'Private'])\n",
    "s3 = len(synthetic_data[synthetic_data['Occupation'] == 'Adm-clerical'])\n",
    "s4 = len(synthetic_data[synthetic_data['Education'] == 'Bachelors'])\n",
    "\n",
    "print(s1, s2, s3, s4)\n",
    "\n",
    "assert s1 > 35 and s1 < 45\n",
    "assert s2 > 65 and s2 < 90\n",
    "assert s3 > 5 and s3 < 25\n",
    "assert s4 > 5 and s4 < 35"
   ]
  }
 ],
 "metadata": {
  "kernelspec": {
   "display_name": "Python 3 (ipykernel)",
   "language": "python",
   "name": "python3"
  },
  "language_info": {
   "codemirror_mode": {
    "name": "ipython",
    "version": 3
   },
   "file_extension": ".py",
   "mimetype": "text/x-python",
   "name": "python",
   "nbconvert_exporter": "python",
   "pygments_lexer": "ipython3",
   "version": "3.10.12"
  }
 },
 "nbformat": 4,
 "nbformat_minor": 4
}
