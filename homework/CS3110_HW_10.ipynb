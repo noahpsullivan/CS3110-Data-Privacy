{
 "cells": [
  {
   "cell_type": "markdown",
   "metadata": {},
   "source": [
    "# CS 3110/5110: Data Privacy\n",
    "## Homework 10"
   ]
  },
  {
   "cell_type": "code",
   "execution_count": 1,
   "metadata": {
    "ExecuteTime": {
     "end_time": "2023-11-26T19:23:23.601526400Z",
     "start_time": "2023-11-26T19:23:20.332557100Z"
    }
   },
   "outputs": [],
   "source": [
    "# Load the data and libraries\n",
    "import pandas as pd\n",
    "import numpy as np\n",
    "from scipy import stats\n",
    "import matplotlib.pyplot as plt\n",
    "\n",
    "def laplace_mech(v, sensitivity, epsilon):\n",
    "    return v + np.random.laplace(loc=0, scale=sensitivity / epsilon)\n",
    "\n",
    "def gaussian_mech(v, sensitivity, epsilon, delta):\n",
    "    return v + np.random.normal(loc=0, scale=sensitivity * np.sqrt(2*np.log(1.25/delta)) / epsilon)\n",
    "\n",
    "def gaussian_mech_vec(vec, sensitivity, epsilon, delta):\n",
    "    return [v + np.random.normal(loc=0, scale=sensitivity * np.sqrt(2*np.log(1.25/delta)) / epsilon)\n",
    "            for v in vec]\n",
    "\n",
    "def pct_error(orig, priv):\n",
    "    return np.abs(orig - priv)/orig * 100.0\n",
    "\n",
    "adult = pd.read_csv('https://github.com/jnear/cs3110-data-privacy/raw/main/homework/adult_with_pii.csv')"
   ]
  },
  {
   "cell_type": "markdown",
   "metadata": {},
   "source": [
    "## Question 1 (10 points)\n",
    "\n",
    "Implement a function `dp_marginal` that calculates a differentially private one-way marginal for a given column of the adult dataset."
   ]
  },
  {
   "cell_type": "code",
   "execution_count": 5,
   "metadata": {
    "deletable": false,
    "nbgrader": {
     "cell_type": "code",
     "checksum": "5a9229a59e046a8691155079ac40ade2",
     "grade": false,
     "grade_id": "cell-fe352b0b42ab6343",
     "locked": false,
     "schema_version": 3,
     "solution": true,
     "task": false
    },
    "ExecuteTime": {
     "end_time": "2023-11-26T19:25:39.819493300Z",
     "start_time": "2023-11-26T19:25:39.787269500Z"
    }
   },
   "outputs": [
    {
     "data": {
      "text/plain": "Occupation\nProf-specialty       0.134782\nCraft-repair         0.133452\nExec-managerial      0.132374\nAdm-clerical         0.122793\nSales                0.118881\nOther-service        0.107302\nMachine-op-inspct    0.065194\nTransport-moving     0.051805\nHandlers-cleaners    0.044609\nFarming-fishing      0.032362\nTech-support         0.030211\nProtective-serv      0.021057\nPriv-house-serv      0.004856\nArmed-Forces         0.000322\nName: count, dtype: float64"
     },
     "execution_count": 5,
     "metadata": {},
     "output_type": "execute_result"
    }
   ],
   "source": [
    "def dp_marginal(col, epsilon):\n",
    "    \n",
    "    # Get count of each value\n",
    "    counts = adult[col].value_counts()\n",
    "    \n",
    "    # Apply laplace mechanism to all counts\n",
    "    dp_syn_rep = counts.apply(laplace_mech, args=(1, epsilon))\n",
    "    \n",
    "    # Normalize to probabilities out of 1\n",
    "    dp_syn_rep_nn = np.clip(dp_syn_rep, 0, None)\n",
    "    syn_normalized = dp_syn_rep_nn / np.sum(dp_syn_rep_nn)\n",
    "    \n",
    "    return syn_normalized\n",
    "\n",
    "dp_marginal('Occupation', 1.0)"
   ]
  },
  {
   "cell_type": "code",
   "execution_count": 6,
   "metadata": {
    "deletable": false,
    "editable": false,
    "nbgrader": {
     "cell_type": "code",
     "checksum": "cede97219e6eab45e147872dc3d17ef9",
     "grade": true,
     "grade_id": "cell-a8066080d4cde75d",
     "locked": true,
     "points": 10,
     "schema_version": 3,
     "solution": false,
     "task": false
    },
    "ExecuteTime": {
     "end_time": "2023-11-26T19:25:41.711640600Z",
     "start_time": "2023-11-26T19:25:41.702285700Z"
    }
   },
   "outputs": [],
   "source": [
    "# TEST CASE\n",
    "marginal = dp_marginal('Age', 1.0)\n",
    "assert marginal[36] > 0.02 and marginal[36] < 0.03\n",
    "assert marginal[85] > 0.00005 and marginal[85] < 0.0005\n",
    "\n",
    "marginal = dp_marginal('Occupation', 1.0)\n",
    "assert marginal['Prof-specialty'] > 0.13 and marginal['Prof-specialty'] < 0.14\n",
    "assert marginal['Protective-serv'] > 0.02 and marginal['Protective-serv'] < 0.03"
   ]
  },
  {
   "cell_type": "markdown",
   "metadata": {},
   "source": [
    "## Question 2 (10 points)\n",
    "\n",
    "Implement a function `dp_synthetic_data` that generates `n` samples of synthetic data for the given columns, by creating one-way marginals for *each column* and then sampling synthetic data elements for each column separately."
   ]
  },
  {
   "cell_type": "code",
   "execution_count": 13,
   "metadata": {
    "deletable": false,
    "nbgrader": {
     "cell_type": "code",
     "checksum": "15ba7932dac45bd0865ec483b2855c7e",
     "grade": false,
     "grade_id": "cell-9cddd37233f6c2e4",
     "locked": false,
     "schema_version": 3,
     "solution": true,
     "task": false
    },
    "ExecuteTime": {
     "end_time": "2023-11-26T19:36:41.219325900Z",
     "start_time": "2023-11-26T19:36:41.193935Z"
    }
   },
   "outputs": [
    {
     "data": {
      "text/plain": "    Age         Occupation      Marital Status     Education   Relationship\n0    34     Prof-specialty            Divorced       HS-grad      Unmarried\n1    52  Machine-op-inspct       Never-married       HS-grad      Unmarried\n2    27  Handlers-cleaners            Divorced       1st-4th      Unmarried\n3    24       Craft-repair  Married-civ-spouse  Some-college        Husband\n4    50       Adm-clerical       Never-married       HS-grad        Husband\n..  ...                ...                 ...           ...            ...\n95   33     Prof-specialty       Never-married  Some-college        Husband\n96   58       Adm-clerical       Never-married       HS-grad  Not-in-family\n97   38       Tech-support  Married-civ-spouse  Some-college      Own-child\n98   24    Exec-managerial       Never-married  Some-college      Own-child\n99   33       Craft-repair  Married-civ-spouse       HS-grad  Not-in-family\n\n[100 rows x 5 columns]",
      "text/html": "<div>\n<style scoped>\n    .dataframe tbody tr th:only-of-type {\n        vertical-align: middle;\n    }\n\n    .dataframe tbody tr th {\n        vertical-align: top;\n    }\n\n    .dataframe thead th {\n        text-align: right;\n    }\n</style>\n<table border=\"1\" class=\"dataframe\">\n  <thead>\n    <tr style=\"text-align: right;\">\n      <th></th>\n      <th>Age</th>\n      <th>Occupation</th>\n      <th>Marital Status</th>\n      <th>Education</th>\n      <th>Relationship</th>\n    </tr>\n  </thead>\n  <tbody>\n    <tr>\n      <th>0</th>\n      <td>34</td>\n      <td>Prof-specialty</td>\n      <td>Divorced</td>\n      <td>HS-grad</td>\n      <td>Unmarried</td>\n    </tr>\n    <tr>\n      <th>1</th>\n      <td>52</td>\n      <td>Machine-op-inspct</td>\n      <td>Never-married</td>\n      <td>HS-grad</td>\n      <td>Unmarried</td>\n    </tr>\n    <tr>\n      <th>2</th>\n      <td>27</td>\n      <td>Handlers-cleaners</td>\n      <td>Divorced</td>\n      <td>1st-4th</td>\n      <td>Unmarried</td>\n    </tr>\n    <tr>\n      <th>3</th>\n      <td>24</td>\n      <td>Craft-repair</td>\n      <td>Married-civ-spouse</td>\n      <td>Some-college</td>\n      <td>Husband</td>\n    </tr>\n    <tr>\n      <th>4</th>\n      <td>50</td>\n      <td>Adm-clerical</td>\n      <td>Never-married</td>\n      <td>HS-grad</td>\n      <td>Husband</td>\n    </tr>\n    <tr>\n      <th>...</th>\n      <td>...</td>\n      <td>...</td>\n      <td>...</td>\n      <td>...</td>\n      <td>...</td>\n    </tr>\n    <tr>\n      <th>95</th>\n      <td>33</td>\n      <td>Prof-specialty</td>\n      <td>Never-married</td>\n      <td>Some-college</td>\n      <td>Husband</td>\n    </tr>\n    <tr>\n      <th>96</th>\n      <td>58</td>\n      <td>Adm-clerical</td>\n      <td>Never-married</td>\n      <td>HS-grad</td>\n      <td>Not-in-family</td>\n    </tr>\n    <tr>\n      <th>97</th>\n      <td>38</td>\n      <td>Tech-support</td>\n      <td>Married-civ-spouse</td>\n      <td>Some-college</td>\n      <td>Own-child</td>\n    </tr>\n    <tr>\n      <th>98</th>\n      <td>24</td>\n      <td>Exec-managerial</td>\n      <td>Never-married</td>\n      <td>Some-college</td>\n      <td>Own-child</td>\n    </tr>\n    <tr>\n      <th>99</th>\n      <td>33</td>\n      <td>Craft-repair</td>\n      <td>Married-civ-spouse</td>\n      <td>HS-grad</td>\n      <td>Not-in-family</td>\n    </tr>\n  </tbody>\n</table>\n<p>100 rows × 5 columns</p>\n</div>"
     },
     "execution_count": 13,
     "metadata": {},
     "output_type": "execute_result"
    }
   ],
   "source": [
    "def dp_synthetic_data(cols, n, epsilon):\n",
    "    df = pd.DataFrame()\n",
    "    for col in cols:\n",
    "        marg = dp_marginal(col, epsilon)\n",
    "        syn = np.random.choice(marg.keys(), n,p=marg)\n",
    "        df[col] = syn\n",
    "    \n",
    "    return df\n",
    "\n",
    "dp_synthetic_data(['Age', 'Occupation', 'Marital Status', 'Education', 'Relationship'], 100, 1.0)"
   ]
  },
  {
   "cell_type": "code",
   "execution_count": 14,
   "metadata": {
    "deletable": false,
    "editable": false,
    "nbgrader": {
     "cell_type": "code",
     "checksum": "d3e12a218ddeb05709b09da49129e907",
     "grade": true,
     "grade_id": "cell-cf544fd5062af6e4",
     "locked": true,
     "points": 10,
     "schema_version": 3,
     "solution": false,
     "task": false
    },
    "ExecuteTime": {
     "end_time": "2023-11-26T19:36:44.971768200Z",
     "start_time": "2023-11-26T19:36:44.938343200Z"
    }
   },
   "outputs": [],
   "source": [
    "# TEST CASE\n",
    "assert stats.wasserstein_distance(dp_synthetic_data(['Age'], len(adult), 1.0)['Age'], adult['Age']) < 0.2\n",
    "assert stats.wasserstein_distance(dp_synthetic_data(['Education-Num'], len(adult), 1.0)['Education-Num'], \n",
    "                                  adult['Education-Num']) < 0.03"
   ]
  },
  {
   "cell_type": "markdown",
   "metadata": {},
   "source": [
    "## Question 3 (10 points)\n",
    "\n",
    "Implement a function `dp_two_marginal` that builds a 2-way marginal with differential privacy."
   ]
  },
  {
   "cell_type": "code",
   "execution_count": null,
   "metadata": {
    "deletable": false,
    "nbgrader": {
     "cell_type": "code",
     "checksum": "d6bdb397f5952af4e467448026624dc1",
     "grade": false,
     "grade_id": "cell-b9fee88059cb9189",
     "locked": false,
     "schema_version": 3,
     "solution": true,
     "task": false
    }
   },
   "outputs": [],
   "source": [
    "def dp_two_marginal(col1, col2, epsilon):\n",
    "    # YOUR CODE HERE\n",
    "    raise NotImplementedError()\n",
    "\n",
    "dp_two_marginal('Education', 'Workclass', 1.0)"
   ]
  },
  {
   "cell_type": "code",
   "execution_count": null,
   "metadata": {
    "deletable": false,
    "editable": false,
    "nbgrader": {
     "cell_type": "code",
     "checksum": "78866899863ff265eaaa68a95b93f3d6",
     "grade": true,
     "grade_id": "cell-cc590e33d1e180e9",
     "locked": true,
     "points": 10,
     "schema_version": 3,
     "solution": false,
     "task": false
    }
   },
   "outputs": [],
   "source": [
    "# TEST CASE\n",
    "marginal = dp_two_marginal('Education', 'Workclass', 1.0)\n",
    "m1 = marginal[(marginal['Education'] == 'HS-grad') & (marginal['Workclass'] == 'Private')]['probability'].values[0]\n",
    "m2 = marginal[(marginal['Education'] == 'Bachelors') & (marginal['Workclass'] == 'Federal-gov')]['probability'].values[0]\n",
    "print(m1, m2)\n",
    "assert m1 > 0.24 and m1 < 0.26\n",
    "assert m2 > 0.005 and m2 < 0.007"
   ]
  },
  {
   "cell_type": "markdown",
   "metadata": {},
   "source": [
    "## Question 4 (30 points)\n",
    "\n",
    "Implement a function `dp_synthetic_data_two_marginal` that generates synthetic data for the `Age`, `Workclass`, `Occupation`, and `Education` columns *while preserving correlations between them* by using overlapping 2-way marginals."
   ]
  },
  {
   "cell_type": "code",
   "execution_count": null,
   "metadata": {
    "deletable": false,
    "nbgrader": {
     "cell_type": "code",
     "checksum": "b4c808c561d17a5f607189d055ee747b",
     "grade": false,
     "grade_id": "cell-d3a6cd7ee4ee9830",
     "locked": false,
     "schema_version": 3,
     "solution": true,
     "task": false
    }
   },
   "outputs": [],
   "source": [
    "def dp_synthetic_data_two_marginal(n, epsilon):\n",
    "    # YOUR CODE HERE\n",
    "    raise NotImplementedError()\n",
    "\n",
    "dp_synthetic_data_two_marginal(100, 1.0)"
   ]
  },
  {
   "cell_type": "code",
   "execution_count": null,
   "metadata": {
    "deletable": false,
    "editable": false,
    "nbgrader": {
     "cell_type": "code",
     "checksum": "8ae034b1e51db70c7b44a6e6117083b6",
     "grade": true,
     "grade_id": "cell-3f4ef7adf2649b50",
     "locked": true,
     "points": 30,
     "schema_version": 3,
     "solution": false,
     "task": false
    }
   },
   "outputs": [],
   "source": [
    "# TEST CASE\n",
    "synthetic_data = dp_synthetic_data_two_marginal(100, 1.0)\n",
    "\n",
    "s1 = synthetic_data['Age'].mean()\n",
    "s2 = len(synthetic_data[synthetic_data['Workclass'] == 'Private'])\n",
    "s3 = len(synthetic_data[synthetic_data['Occupation'] == 'Adm-clerical'])\n",
    "s4 = len(synthetic_data[synthetic_data['Education'] == 'Bachelors'])\n",
    "\n",
    "print(s1, s2, s3, s4)\n",
    "\n",
    "assert s1 > 35 and s1 < 45\n",
    "assert s2 > 65 and s2 < 90\n",
    "assert s3 > 5 and s3 < 25\n",
    "assert s4 > 5 and s4 < 35"
   ]
  }
 ],
 "metadata": {
  "kernelspec": {
   "display_name": "Python 3 (ipykernel)",
   "language": "python",
   "name": "python3"
  },
  "language_info": {
   "codemirror_mode": {
    "name": "ipython",
    "version": 3
   },
   "file_extension": ".py",
   "mimetype": "text/x-python",
   "name": "python",
   "nbconvert_exporter": "python",
   "pygments_lexer": "ipython3",
   "version": "3.10.12"
  }
 },
 "nbformat": 4,
 "nbformat_minor": 4
}
