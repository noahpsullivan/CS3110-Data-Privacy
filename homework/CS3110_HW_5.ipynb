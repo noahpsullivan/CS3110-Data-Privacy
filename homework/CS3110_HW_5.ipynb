{
 "cells": [
  {
   "cell_type": "markdown",
   "metadata": {},
   "source": [
    "# CS 3110/5110: Data Privacy\n",
    "## Homework 5"
   ]
  },
  {
   "cell_type": "code",
   "execution_count": 1,
   "metadata": {
    "ExecuteTime": {
     "end_time": "2023-11-25T04:39:26.596923200Z",
     "start_time": "2023-11-25T04:39:23.557345200Z"
    }
   },
   "outputs": [],
   "source": [
    "# Load the data and libraries\n",
    "import pandas as pd\n",
    "import numpy as np\n",
    "from scipy import stats\n",
    "import matplotlib.pyplot as plt\n",
    "\n",
    "def laplace_mech(v, sensitivity, epsilon):\n",
    "    return v + np.random.laplace(loc=0, scale=sensitivity / epsilon)\n",
    "\n",
    "def laplace_mech_vec(qs, sensitivity, epsilon):\n",
    "    return [laplace_mech(q, sensitivity, epsilon) for q in qs]\n",
    "\n",
    "def gaussian_mech(v, sensitivity, epsilon, delta):\n",
    "    return v + np.random.normal(loc=0, scale=sensitivity * np.sqrt(2*np.log(1.25/delta)) / epsilon)\n",
    "\n",
    "def gaussian_mech_vec(qs, sensitivity, epsilon, delta):\n",
    "    return [gaussian_mech(q, sensitivity, epsilon, delta) for q in qs]\n",
    "\n",
    "def pct_error(orig, priv):\n",
    "    return np.abs(orig - priv)/orig * 100.0\n",
    "\n",
    "adult = pd.read_csv('https://github.com/jnear/cs3110-data-privacy/raw/main/homework/adult_with_pii.csv')"
   ]
  },
  {
   "cell_type": "markdown",
   "metadata": {},
   "source": [
    "## Question 1 (5 points)\n",
    "\n",
    "Implement the `dp_occupation_histogram` function below. It should return a differentially private histogram over the `Occupation` column in the `adult` dataset. Your function should have a total privacy cost of `epsilon` and should use parallel composition."
   ]
  },
  {
   "cell_type": "code",
   "execution_count": 2,
   "metadata": {
    "deletable": false,
    "nbgrader": {
     "cell_type": "code",
     "checksum": "6f676402dc7db9d39911a943bfc4322e",
     "grade": false,
     "grade_id": "cell-7b8cd895f25e6d77",
     "locked": false,
     "schema_version": 3,
     "solution": true,
     "task": false
    },
    "ExecuteTime": {
     "end_time": "2023-11-25T04:39:29.319753900Z",
     "start_time": "2023-11-25T04:39:29.304454500Z"
    }
   },
   "outputs": [
    {
     "data": {
      "text/plain": "Occupation\nProf-specialty       4139.576901\nCraft-repair         4099.884509\nExec-managerial      4065.413699\nAdm-clerical         3770.757412\nSales                3651.130609\nOther-service        3294.936775\nMachine-op-inspct    2001.855916\nTransport-moving     1593.678315\nHandlers-cleaners    1370.311564\nFarming-fishing       993.800865\nTech-support          928.817145\nProtective-serv       654.015270\nPriv-house-serv       147.707147\nArmed-Forces            8.216604\nName: count, dtype: float64"
     },
     "execution_count": 2,
     "metadata": {},
     "output_type": "execute_result"
    }
   ],
   "source": [
    "def dp_occupation_histogram(epsilon):\n",
    "    f = lambda x: laplace_mech(x, 1, epsilon)\n",
    "    s = adult['Occupation'].value_counts().apply(f)\n",
    "    return s\n",
    "\n",
    "dp_occupation_histogram(1)"
   ]
  },
  {
   "cell_type": "code",
   "execution_count": 3,
   "metadata": {
    "deletable": false,
    "editable": false,
    "nbgrader": {
     "cell_type": "code",
     "checksum": "a33ff0d5dc44cce47225e46bee20f197",
     "grade": true,
     "grade_id": "cell-e017e6677a43b790",
     "locked": true,
     "points": 5,
     "schema_version": 3,
     "solution": false,
     "task": false
    },
    "ExecuteTime": {
     "end_time": "2023-11-25T04:39:34.695581900Z",
     "start_time": "2023-11-25T04:39:34.003175800Z"
    }
   },
   "outputs": [],
   "source": [
    "# TEST CASE\n",
    "hist = adult['Occupation'].value_counts()\n",
    "dp_results = [np.abs(dp_occupation_histogram(1.0)-hist) for _ in range(200)]\n",
    "all_dp_results = [item for sublist in dp_results for item in sublist]\n",
    "spec = [np.random.laplace(loc=0, scale=1/1.0) for _ in range(2000)]\n",
    "assert stats.wasserstein_distance(all_dp_results, spec) < 2\n",
    "assert stats.wasserstein_distance(all_dp_results, spec) > 0\n",
    "\n",
    "dp_results = [np.abs(dp_occupation_histogram(0.01)-hist) for _ in range(200)]\n",
    "all_dp_results = [item for sublist in dp_results for item in sublist]\n",
    "spec = [np.random.laplace(loc=0, scale=1/0.01) for _ in range(2000)]\n",
    "assert stats.wasserstein_distance(all_dp_results, spec) < 150\n",
    "assert stats.wasserstein_distance(all_dp_results, spec) > 50"
   ]
  },
  {
   "cell_type": "markdown",
   "metadata": {},
   "source": [
    "## Question 2 (10 points)\n",
    "\n",
    "In 2-5 sentences each, answer the following:\n",
    "\n",
    "- Argue that your solution for `dp_occupation_histogram` satisfies `epsilon`-differential privacy.\n",
    "- How would your results change (in terms of accuracy) if you used sequential composition instead of parallel composition to implement `dp_occupation_histogram`, and why?\n",
    "- If you partition the data by *both* occupation and age (i.e. a contingency table), would parallel composition still apply? Why or why not?\n",
    "- If you partition the data by both occupation and age, what would happen to accuracy, and why?"
   ]
  },
  {
   "cell_type": "markdown",
   "metadata": {
    "deletable": false,
    "nbgrader": {
     "cell_type": "markdown",
     "checksum": "f5c2cdb843a084ed76ab2acba24a6022",
     "grade": true,
     "grade_id": "cell-dbc4948a9f3092b7",
     "locked": false,
     "points": 10,
     "schema_version": 3,
     "solution": true,
     "task": false
    }
   },
   "source": [
    "- My solution for `dp_occupation_histogram` satisfies `epsilon`-differential privacy because it applies the laplace mechanism to individual occupations. This \"binning\" of data ensures that no one entry is accessed more than once.\n",
    "- Parallel composition has the potential to give more inaccurate results than sequential composition. This is because by \"binning\" data, parallel composition uses smaller individual datasets, introducing a higher possibility for error.\n",
    "- Yes, it would still work. It's sort of like subdividing a bin into even smaller bins.\n",
    "- Accuracy would likely decrease because the count of entries in each bin would decrease."
   ]
  },
  {
   "cell_type": "markdown",
   "metadata": {},
   "source": [
    "## Question 3 (5 points)\n",
    "\n",
    "Consider the code below, which graphs the total privacy cost of an averaging attack under (1) sequential composition and (2) advanced composition, for values of `k` between 1 and 200."
   ]
  },
  {
   "cell_type": "code",
   "execution_count": 15,
   "metadata": {
    "ExecuteTime": {
     "end_time": "2023-11-25T05:16:50.180645400Z",
     "start_time": "2023-11-25T05:16:49.998682300Z"
    }
   },
   "outputs": [
    {
     "data": {
      "text/plain": "[<matplotlib.lines.Line2D at 0x1cdb2606ed0>]"
     },
     "execution_count": 15,
     "metadata": {},
     "output_type": "execute_result"
    },
    {
     "data": {
      "text/plain": "<Figure size 640x480 with 1 Axes>",
      "image/png": "[encoded data removed]"
     },
     "metadata": {},
     "output_type": "display_data"
    }
   ],
   "source": [
    "epsilon = .1\n",
    "delta_p = 1e-5\n",
    "\n",
    "def query():\n",
    "    return len(adult[adult['Martial Status'] == 'Divorced'])\n",
    "\n",
    "def avg_attack(k):\n",
    "    return np.mean([laplace_mech(query(), 1, epsilon) for i in range(k)])\n",
    "    \n",
    "xs = range(1, 200)\n",
    "privacy_cost_sequential = [k * epsilon for k in xs]\n",
    "privacy_cost_advanced = [2 * epsilon * np.sqrt(2 * k * np.log(1/delta_p)) for k in xs]\n",
    "\n",
    "# Straight line\n",
    "plt.plot(xs, privacy_cost_sequential)\n",
    "# Curves\n",
    "plt.plot(xs, privacy_cost_advanced)"
   ]
  },
  {
   "cell_type": "markdown",
   "metadata": {},
   "source": [
    "In 2-5 sentences, answer the following:\n",
    "- At approximately what point do the lines representing the two approaches cross? What does this mean about **which** composition technique should be used for an iterative algorithm?\n",
    "- The two lines represent **different** privacy costs for the **same** algorithm. How can both be correct?"
   ]
  },
  {
   "cell_type": "markdown",
   "metadata": {
    "deletable": false,
    "nbgrader": {
     "cell_type": "markdown",
     "checksum": "2b86e17228d608736c37de10704baf28",
     "grade": true,
     "grade_id": "cell-96c736c4b121709d",
     "locked": false,
     "points": 5,
     "schema_version": 3,
     "solution": true,
     "task": false
    }
   },
   "source": [
    "- The lines representing the two approaches cross probably around x = 80. This means that sequential composition is more useful on lower $k$ applications while advanced composition becomes useful with more iterations.\n",
    "- Both sequential and advanced composition are mechanisms that are used as part of the algorithm, not separate algorithms themselves"
   ]
  },
  {
   "cell_type": "markdown",
   "metadata": {},
   "source": [
    "## Question 4 (10 points)\n",
    "\n",
    "Consider the code below, which defines three average queries and runs them on `adult_data`, using the Laplace mechanism to provide differential privacy with $\\epsilon = 1$ for each query."
   ]
  },
  {
   "cell_type": "code",
   "execution_count": 5,
   "metadata": {
    "ExecuteTime": {
     "end_time": "2023-11-25T04:39:48.467137400Z",
     "start_time": "2023-11-25T04:39:48.433189700Z"
    }
   },
   "outputs": [
    {
     "data": {
      "text/plain": "[17145231, 14754, 1256257]"
     },
     "execution_count": 5,
     "metadata": {},
     "output_type": "execute_result"
    }
   ],
   "source": [
    "b_capgain = 10000\n",
    "b_age = 3000\n",
    "\n",
    "epsilon = 1\n",
    "\n",
    "def query1():\n",
    "    return np.sum(adult['Capital Gain'].clip(lower=0, upper=b_capgain))\n",
    "\n",
    "def query2():\n",
    "    return len(adult[adult['Education-Num'] < 10])\n",
    "\n",
    "def query3():\n",
    "    return np.sum(adult['Age'].clip(lower=0, upper=b_age))\n",
    "\n",
    "def my_query():\n",
    "    return [query1(), query2(), query3()]\n",
    "\n",
    "my_query()"
   ]
  },
  {
   "cell_type": "markdown",
   "metadata": {},
   "source": [
    "In 2-5 sentences, answer the following:\n",
    "- What is the $L_1$ global sensitivity of `my_query`, and why?\n",
    "- What is the $L_2$ global sensitivity of `my_query`, and why?"
   ]
  },
  {
   "cell_type": "markdown",
   "metadata": {
    "deletable": false,
    "nbgrader": {
     "cell_type": "markdown",
     "checksum": "a1fecbfc2c5e53a5c39617488e4292bf",
     "grade": true,
     "grade_id": "cell-ca541a700c703c80",
     "locked": false,
     "points": 10,
     "schema_version": 3,
     "solution": true,
     "task": false
    }
   },
   "source": [
    "- The $L_1$ global sensitivity of `my_query` is 3 because it returns a vector of 3 1-sensitive results\n",
    "- The $L_2$ global sensitivity of `my_query` is $\\sqrt{3}$ because $L_2$ sensitivity is the square root of $L_1$ sensitivity."
   ]
  },
  {
   "cell_type": "markdown",
   "metadata": {},
   "source": [
    "## Question 5 (5 points)\n",
    "\n",
    "In the cell below, write code to release the results of calling `my_query()` with differential privacy, without using sequential composition.\n",
    "\n",
    "*Hint*: use `laplace_mech_vec`, but be careful of sensitivity!"
   ]
  },
  {
   "cell_type": "code",
   "execution_count": 16,
   "metadata": {
    "deletable": false,
    "nbgrader": {
     "cell_type": "code",
     "checksum": "90d082593e8a002a78ea34eeaaf24bef",
     "grade": false,
     "grade_id": "cell-860262f2a5274ade",
     "locked": false,
     "schema_version": 3,
     "solution": true,
     "task": false
    },
    "ExecuteTime": {
     "end_time": "2023-11-25T05:39:13.789024800Z",
     "start_time": "2023-11-25T05:39:13.758595200Z"
    }
   },
   "outputs": [
    {
     "data": {
      "text/plain": "[17145241.373756014, 14761.47362481454, 1256265.8802088192]"
     },
     "execution_count": 16,
     "metadata": {},
     "output_type": "execute_result"
    }
   ],
   "source": [
    "def my_query_lap(epsilon):\n",
    "    return laplace_mech_vec(my_query(), 3, epsilon)\n",
    "\n",
    "my_query_lap(1.0)"
   ]
  },
  {
   "cell_type": "markdown",
   "metadata": {},
   "source": [
    "## Question 6 (5 points)\n",
    "\n",
    "In the cell below, write code to release the results of `my_query()` with differential privacy, but using the Gaussian mechanism.\n",
    "\n",
    "*Hint*: remember to use $L_2$ sensitivity"
   ]
  },
  {
   "cell_type": "code",
   "execution_count": 17,
   "metadata": {
    "deletable": false,
    "nbgrader": {
     "cell_type": "code",
     "checksum": "edd8765921e3c37313933c99df0c0c6e",
     "grade": false,
     "grade_id": "cell-a728b9c2e0db4bf9",
     "locked": false,
     "schema_version": 3,
     "solution": true,
     "task": false
    },
    "ExecuteTime": {
     "end_time": "2023-11-25T05:39:52.557459Z",
     "start_time": "2023-11-25T05:39:52.529724700Z"
    }
   },
   "outputs": [
    {
     "data": {
      "text/plain": "[17145217.18531319, 14746.425223756563, 1256240.4461919463]"
     },
     "execution_count": 17,
     "metadata": {},
     "output_type": "execute_result"
    }
   ],
   "source": [
    "def my_query_gauss(epsilon, delta):\n",
    "    return gaussian_mech_vec(my_query(), np.sqrt(3), epsilon, delta)\n",
    "\n",
    "my_query_gauss(1.0, 1e-5)"
   ]
  }
 ],
 "metadata": {
  "kernelspec": {
   "display_name": "Python 3 (ipykernel)",
   "language": "python",
   "name": "python3"
  },
  "language_info": {
   "codemirror_mode": {
    "name": "ipython",
    "version": 3
   },
   "file_extension": ".py",
   "mimetype": "text/x-python",
   "name": "python",
   "nbconvert_exporter": "python",
   "pygments_lexer": "ipython3",
   "version": "3.10.12"
  }
 },
 "nbformat": 4,
 "nbformat_minor": 4
}
