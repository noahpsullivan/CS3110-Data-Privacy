{
 "cells": [
  {
   "cell_type": "markdown",
   "metadata": {},
   "source": [
    "# CS 3110/5990: Data Privacy\n",
    "## Homework 4"
   ]
  },
  {
   "cell_type": "code",
   "execution_count": 3,
   "metadata": {
    "ExecuteTime": {
     "end_time": "2023-12-09T18:19:31.673154600Z",
     "start_time": "2023-12-09T18:19:27.870346200Z"
    }
   },
   "outputs": [],
   "source": [
    "# Load the data and libraries\n",
    "import pandas as pd\n",
    "import numpy as np\n",
    "from scipy import stats\n",
    "import matplotlib.pyplot as plt\n",
    "\n",
    "def laplace_mech(v, sensitivity, epsilon):\n",
    "    return v + np.random.laplace(loc=0, scale=sensitivity / epsilon)\n",
    "\n",
    "def pct_error(orig, priv):\n",
    "    return np.abs(orig - priv)/orig * 100.0\n",
    "\n",
    "adult = pd.read_csv('https://github.com/jnear/cs3110-data-privacy/raw/main/homework/adult_with_pii.csv')"
   ]
  },
  {
   "cell_type": "markdown",
   "metadata": {},
   "source": [
    "## Question 1 (10 points)\n",
    "\n",
    "Complete the definition of `dp_sum_capgain` below. Your definition should compute a differentially private sum of the \"Capital Gain\" column of the `adult` dataset, and have a total privacy cost of `epsilon`."
   ]
  },
  {
   "cell_type": "code",
   "execution_count": 4,
   "metadata": {
    "deletable": false,
    "nbgrader": {
     "cell_type": "code",
     "checksum": "6080971c67250edb52282f4b23cd5b88",
     "grade": false,
     "grade_id": "cell-6a369f61d8eef943",
     "locked": false,
     "schema_version": 3,
     "solution": true,
     "task": false
    },
    "ExecuteTime": {
     "end_time": "2023-12-09T18:19:39.532042400Z",
     "start_time": "2023-12-09T18:19:39.511755200Z"
    }
   },
   "outputs": [
    {
     "data": {
      "text/plain": "34803235.1551215"
     },
     "execution_count": 4,
     "metadata": {},
     "output_type": "execute_result"
    }
   ],
   "source": [
    "def dp_sum_capgain(epsilon):\n",
    "    clip = 2**17\n",
    "    clipped = adult['Capital Gain'].clip(lower=0, upper=clip)\n",
    "    return laplace_mech(clipped.sum(), clip, epsilon)\n",
    "\n",
    "dp_sum_capgain(1.0)"
   ]
  },
  {
   "cell_type": "code",
   "execution_count": 5,
   "metadata": {
    "deletable": false,
    "editable": false,
    "nbgrader": {
     "cell_type": "code",
     "checksum": "ff9fcd394127b5d73aac00552e7e7ab4",
     "grade": true,
     "grade_id": "cell-e5b1229ba2249f71",
     "locked": true,
     "points": 10,
     "schema_version": 3,
     "solution": false,
     "task": false
    },
    "ExecuteTime": {
     "end_time": "2023-12-09T18:19:41.790223500Z",
     "start_time": "2023-12-09T18:19:41.522644800Z"
    }
   },
   "outputs": [
    {
     "name": "stdout",
     "output_type": "stream",
     "text": [
      "Average errors: 3.2366065175259178 0.35134504168713204 0.03889186947158548\n"
     ]
    }
   ],
   "source": [
    "# TEST CASE for question 1\n",
    "\n",
    "real_sum = adult['Capital Gain'].sum()\n",
    "r1 = np.mean([pct_error(real_sum, dp_sum_capgain(0.1)) for _ in range(100)])\n",
    "r2 = np.mean([pct_error(real_sum, dp_sum_capgain(1.0)) for _ in range(100)])\n",
    "r3 = np.mean([pct_error(real_sum, dp_sum_capgain(10.0)) for _ in range(100)])\n",
    "\n",
    "print(\"Average errors:\", r1, r2, r3)\n",
    "\n",
    "assert r1 > 0\n",
    "assert r2 > 0\n",
    "assert r3 > 0\n",
    "assert r1 < 10\n",
    "assert r2 < 2\n",
    "assert r3 < 0.2"
   ]
  },
  {
   "cell_type": "markdown",
   "metadata": {},
   "source": [
    "## Question 2 (10 points)\n",
    "\n",
    "In 2-5 sentences each, answer the following:\n",
    "\n",
    "- What clipping parameter did you use in your definition of `dp_sum_capital`, and why?\n",
    "- What was the sensitivity of the query you used in `dp_sum_capital`, and how is it bounded?\n",
    "- Argue that your definition of `dp_sum_capital` has a total privacy cost of `epsilon`"
   ]
  },
  {
   "cell_type": "markdown",
   "metadata": {
    "deletable": false,
    "nbgrader": {
     "cell_type": "markdown",
     "checksum": "6cfdb579dfcf330b8e9e9cfd697fe494",
     "grade": true,
     "grade_id": "cell-986eec754f32c072",
     "locked": false,
     "points": 10,
     "schema_version": 3,
     "solution": true,
     "task": false
    }
   },
   "source": [
    "My upper clipping parameter was set to 2<sup>17</sup>, which I arrived at through trial and error. The sensitivity of the query is 2<sup>17</sup> because the lower bound is 0 and the sensitivity of a clipped query is the difference between the upper and lower bounds. The total privacy cost for the function is equal to epsilon because ony one query with a total privacy cost of epsilon is being made"
   ]
  },
  {
   "cell_type": "markdown",
   "metadata": {},
   "source": [
    "## Question 3 (10 points)\n",
    "\n",
    "Complete the definition of `dp_avg_capgain` below. Your definition should compute a differentially private average (mean) of the \"Capital Gain\" column of the adult dataset, and have a **total privacy cost of epsilon**."
   ]
  },
  {
   "cell_type": "code",
   "execution_count": 6,
   "metadata": {
    "deletable": false,
    "nbgrader": {
     "cell_type": "code",
     "checksum": "99b884a40ae754582e5d08c98abb1fda",
     "grade": false,
     "grade_id": "cell-93f2a5153dca0e95",
     "locked": false,
     "schema_version": 3,
     "solution": true,
     "task": false
    },
    "ExecuteTime": {
     "end_time": "2023-12-09T18:19:45.821348Z",
     "start_time": "2023-12-09T18:19:45.801606Z"
    }
   },
   "outputs": [
    {
     "data": {
      "text/plain": "1103.5480936663057"
     },
     "execution_count": 6,
     "metadata": {},
     "output_type": "execute_result"
    }
   ],
   "source": [
    "def dp_avg_capgain(epsilon):\n",
    "    sum_capgain = dp_sum_capgain(epsilon/2)\n",
    "    count_capgain = laplace_mech(adult.shape[0], 1, epsilon/2)\n",
    "    return sum_capgain / count_capgain\n",
    "\n",
    "dp_avg_capgain(1.0)"
   ]
  },
  {
   "cell_type": "code",
   "execution_count": 7,
   "metadata": {
    "deletable": false,
    "editable": false,
    "nbgrader": {
     "cell_type": "code",
     "checksum": "f1b47ee125ecebaab842c8677f424806",
     "grade": true,
     "grade_id": "cell-ef77b325b5c58908",
     "locked": true,
     "points": 10,
     "schema_version": 3,
     "solution": false,
     "task": false
    },
    "ExecuteTime": {
     "end_time": "2023-12-09T18:19:47.988668600Z",
     "start_time": "2023-12-09T18:19:47.727823500Z"
    }
   },
   "outputs": [
    {
     "name": "stdout",
     "output_type": "stream",
     "text": [
      "Average errors: 7.177193846321342 0.8218888222881664 0.06780609292405845\n"
     ]
    }
   ],
   "source": [
    "# TEST CASE for question 3\n",
    "\n",
    "real_avg = adult['Capital Gain'].mean()\n",
    "r1 = np.mean([pct_error(real_avg, dp_avg_capgain(0.1)) for _ in range(100)])\n",
    "r2 = np.mean([pct_error(real_avg, dp_avg_capgain(1.0)) for _ in range(100)])\n",
    "r3 = np.mean([pct_error(real_avg, dp_avg_capgain(10.0)) for _ in range(100)])\n",
    "\n",
    "print(\"Average errors:\", r1, r2, r3)\n",
    "\n",
    "assert r1 > 0\n",
    "assert r2 > 0\n",
    "assert r3 > 0\n",
    "assert r1 < 20\n",
    "assert r2 < 4\n",
    "assert r3 < 0.4"
   ]
  },
  {
   "cell_type": "markdown",
   "metadata": {},
   "source": [
    "## Question 4 (10 points)\n",
    "\n",
    "In 2-5 sentences each, answer the following:\n",
    "\n",
    "- Argue that your definition of `dp_avg_capgain` has a total privacy cost of `epsilon`\n",
    "- For sums and averages, which seems to be more important for accuracy - the value of the clipping parameter $b$ or the scale of the noise added? Why?\n",
    "- Do you think the answer to the previous point will be true for every dataset? Why or why not?"
   ]
  },
  {
   "cell_type": "markdown",
   "metadata": {
    "deletable": false,
    "nbgrader": {
     "cell_type": "markdown",
     "checksum": "1bdbfc10631a501c5a7fb556dd93b78b",
     "grade": true,
     "grade_id": "cell-7ea16016366529bd",
     "locked": false,
     "points": 10,
     "schema_version": 3,
     "solution": true,
     "task": false
    }
   },
   "source": [
    "The total privacy cost of `dp_avg_capgain` is `epsilon` because two queries equal to epsilon/2 are made. The total privacy cost can be calculated using sequential composition, bringing us to a total privacy cost of epsilon. "
   ]
  },
  {
   "cell_type": "markdown",
   "metadata": {},
   "source": [
    "## Question 5 (20 points)\n",
    "\n",
    "Write a function `auto_avg` that returns the differentially private average of a Pandas series `s`. Your function should automatically determine the clipping parameter `b`, and should enforce differential privacy for a **total privacy cost** of `epsilon`. You can assume that all values are non-negative (i.e. 0 or greater)."
   ]
  },
  {
   "cell_type": "code",
   "execution_count": 24,
   "metadata": {
    "deletable": false,
    "nbgrader": {
     "cell_type": "code",
     "checksum": "2904d4ac725862cfa5bf5407dac205ad",
     "grade": false,
     "grade_id": "cell-10b352b38a9b5f85",
     "locked": false,
     "schema_version": 3,
     "solution": true,
     "task": false
    },
    "ExecuteTime": {
     "end_time": "2023-12-09T18:40:21.342887900Z",
     "start_time": "2023-12-09T18:40:21.330234900Z"
    }
   },
   "outputs": [],
   "source": [
    "def auto_avg(s, epsilon):\n",
    "    clips = [10**n for n in range(10)]\n",
    "    n = len(clips)\n",
    "    \n",
    "    # Internally redefine epsilon to satisfy DP\n",
    "    epsilon = epsilon / (n+1)\n",
    "    \n",
    "    noisy_count = laplace_mech(len(s), 1, epsilon)\n",
    "    last = -1\n",
    "    for clip in clips:\n",
    "        noisy_sum = laplace_mech(s.clip(lower=0, upper=clip).sum(), clip, epsilon)\n",
    "        noisy_avg = noisy_sum / noisy_count\n",
    "        \n",
    "        # Difference of less than a 10th of the clip -- 100th didn't seem to work\n",
    "        if abs(noisy_avg - last) < .01 * clip:\n",
    "            return last\n",
    "        else:\n",
    "            last = noisy_avg\n"
   ]
  },
  {
   "cell_type": "code",
   "execution_count": 25,
   "metadata": {
    "deletable": false,
    "editable": false,
    "nbgrader": {
     "cell_type": "code",
     "checksum": "681c071e3c768c39363da9bc07e17e2b",
     "grade": true,
     "grade_id": "cell-49fb57b1ebfcc0da",
     "locked": true,
     "points": 20,
     "schema_version": 3,
     "solution": false,
     "task": false
    },
    "ExecuteTime": {
     "end_time": "2023-12-09T18:40:23.172191100Z",
     "start_time": "2023-12-09T18:40:22.720361600Z"
    }
   },
   "outputs": [
    {
     "name": "stdout",
     "output_type": "stream",
     "text": [
      "Average errors: 0.07470988494570033 51.01695671480552 0.14172860161702638\n"
     ]
    }
   ],
   "source": [
    "# TEST CASE for question 5\n",
    "r1 = np.mean([pct_error(adult['Age'].mean(), auto_avg(adult['Age'], 1.0)) for _ in range(20)])\n",
    "r2 = np.mean([pct_error(adult['Capital Gain'].mean(), auto_avg(adult['Capital Gain'], 1.0)) for _ in range(20)])\n",
    "r3 = np.mean([pct_error(adult['fnlwgt'].mean(), auto_avg(adult['fnlwgt'], 1.0)) for _ in range(20)])\n",
    "\n",
    "print('Average errors:', r1, r2, r3)\n",
    "assert r1 > 0\n",
    "assert r2 > 0\n",
    "assert r3 > 0\n",
    "assert r1 < 1\n",
    "assert r2 < 100\n",
    "assert r3 < 1"
   ]
  },
  {
   "cell_type": "markdown",
   "metadata": {},
   "source": [
    "## Question 6\n",
    "\n",
    "In 2-5 sentences each, answer the following:\n",
    "\n",
    "- Explain your strategy for implementing `auto_avg`\n",
    "- Argue informally that your definition of `auto_avg` has a total privacy cost of `epsilon`\n",
    "- Did your solution work well for all three example columns? If it did not work well on any of them, why not?\n",
    "- When is your solution likely to *not* work well? (i.e. what properties does the data have to have, in order for your solution to not work well?)"
   ]
  },
  {
   "cell_type": "markdown",
   "metadata": {
    "deletable": false,
    "nbgrader": {
     "cell_type": "markdown",
     "checksum": "def36546de73b2221e2699f4f41000a6",
     "grade": true,
     "grade_id": "cell-0ff63739ed66adf7",
     "locked": false,
     "points": 10,
     "schema_version": 3,
     "solution": true,
     "task": false
    }
   },
   "source": [
    "- My solution creates a set of clipping parameters and iterates over them until it finds a clip that creates relatively little change from the last dataset. When there's relatively little change the result from the previous clip is accepted.\n",
    "- My definition of `auto_avg` has a total privacy cost of `epsilon` because the algorithm makes at most *n* iterations at `epsilon / n` privacy.\n",
    "- My solution did not work well for Capital Gain. Looking at the assertions it doesn't seem like it was meant to, but I'm not sure why. Maybe it clipped too tight?\n",
    "- The solution has a fixed set of clipping parameters - any data value larger than the greatest clip will be ignored. The solution is also vulnerable to large gaps in the dataset."
   ]
  }
 ],
 "metadata": {
  "kernelspec": {
   "display_name": "Python 3 (ipykernel)",
   "language": "python",
   "name": "python3"
  },
  "language_info": {
   "codemirror_mode": {
    "name": "ipython",
    "version": 3
   },
   "file_extension": ".py",
   "mimetype": "text/x-python",
   "name": "python",
   "nbconvert_exporter": "python",
   "pygments_lexer": "ipython3",
   "version": "3.10.12"
  }
 },
 "nbformat": 4,
 "nbformat_minor": 4
}
