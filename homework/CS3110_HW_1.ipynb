{
 "cells": [
  {
   "cell_type": "markdown",
   "metadata": {},
   "source": [
    "# CS 3110/5110: Data Privacy\n",
    "## Homework 1"
   ]
  },
  {
   "cell_type": "code",
   "execution_count": 1,
   "metadata": {
    "ExecuteTime": {
     "end_time": "2023-09-11T18:25:49.916983Z",
     "start_time": "2023-09-11T18:25:46.600644200Z"
    }
   },
   "outputs": [],
   "source": [
    "# Load the data and libraries\n",
    "import pandas as pd\n",
    "import numpy as np\n",
    "\n",
    "adult = pd.read_csv('https://github.com/jnear/cs3110-data-privacy/raw/main/homework/adult_with_pii.csv')\n",
    "adult_pii = adult[['Name', 'DOB', 'SSN', 'Zip', 'Age']]\n",
    "adult_deid = adult.drop(columns=['Name', 'SSN'])"
   ]
  },
  {
   "cell_type": "markdown",
   "metadata": {},
   "source": [
    "## Question 1 (20 points)\n",
    "\n",
    "Using the dataframes `adult_pii` and `adult_deid`, write code to conduct a linking attack to recover the names of as many individuals in `adult_deid` as possible. Your solution should be parameterized by the set of columns to use in the attack."
   ]
  },
  {
   "cell_type": "code",
   "execution_count": 2,
   "metadata": {
    "deletable": false,
    "nbgrader": {
     "cell_type": "code",
     "checksum": "104cae26868ad3192fa4559d42c5a9bc",
     "grade": false,
     "grade_id": "cell-e6389ceace711c32",
     "locked": false,
     "schema_version": 3,
     "solution": true,
     "task": false
    },
    "ExecuteTime": {
     "end_time": "2023-09-11T18:25:49.926100Z",
     "start_time": "2023-09-11T18:25:49.921845200Z"
    }
   },
   "outputs": [],
   "source": [
    "def linking_attack(cols):\n",
    "    return pd.merge(adult_pii, adult_deid, left_on=cols, right_on=cols)"
   ]
  },
  {
   "cell_type": "code",
   "execution_count": 3,
   "metadata": {
    "deletable": false,
    "editable": false,
    "nbgrader": {
     "cell_type": "code",
     "checksum": "a76869307e0cddfa2304385041c0d3af",
     "grade": true,
     "grade_id": "cell-251b9f1c6f7b4630",
     "locked": true,
     "points": 20,
     "schema_version": 3,
     "solution": false,
     "task": false
    },
    "ExecuteTime": {
     "end_time": "2023-09-11T18:25:50.028888200Z",
     "start_time": "2023-09-11T18:25:49.927134400Z"
    }
   },
   "outputs": [],
   "source": [
    "# TEST CASES for Question 1\n",
    "\n",
    "assert len(linking_attack(['Zip'])) == 43191\n",
    "assert len(linking_attack(['Zip', 'DOB'])) == 32563\n",
    "assert len(linking_attack(['Zip', 'Age'])) == 32755"
   ]
  },
  {
   "cell_type": "markdown",
   "metadata": {},
   "source": [
    "## Question 2 (5 points)\n",
    "\n",
    "How many individuals in this dataset are uniquely identified by their Zip code? How many are uniquely identified by their age?\n",
    "\n",
    "Hint: note that the number of *unique ZIP codes* is **different** from the number of *individuals uniquely identified by ZIP code*.\n",
    "\n",
    "Hint: you can use the `value_counts` method to count the number of occurences of each value in a series."
   ]
  },
  {
   "cell_type": "code",
   "execution_count": 4,
   "metadata": {
    "deletable": false,
    "nbgrader": {
     "cell_type": "code",
     "checksum": "9733ff7d940158fb81a39ca36af422e7",
     "grade": false,
     "grade_id": "cell-0e380ac68dd0c77e",
     "locked": false,
     "schema_version": 3,
     "solution": true,
     "task": false
    },
    "ExecuteTime": {
     "end_time": "2023-09-11T18:25:50.230390300Z",
     "start_time": "2023-09-11T18:25:50.034123100Z"
    }
   },
   "outputs": [
    {
     "name": "stdout",
     "output_type": "stream",
     "text": [
      "23513\n",
      "7845\n"
     ]
    }
   ],
   "source": [
    "def unique_zipcode():\n",
    "    attack = linking_attack(['Zip'])\n",
    "    freq = attack['Name'].value_counts()\n",
    "    count = 0\n",
    "    for name in freq:\n",
    "        if name == 1:\n",
    "            count += 1\n",
    "    return count\n",
    "\n",
    "def unique_dob():\n",
    "    attack = linking_attack(['DOB'])\n",
    "    freq = attack['Name'].value_counts()\n",
    "    count = 0\n",
    "    for name in freq:\n",
    "        if name == 1:\n",
    "            count += 1\n",
    "    return count\n",
    "\n",
    "print(unique_zipcode())\n",
    "print(unique_dob())\n",
    "\n",
    "# There has to be a better way to get this count"
   ]
  },
  {
   "cell_type": "code",
   "execution_count": 5,
   "metadata": {
    "deletable": false,
    "editable": false,
    "nbgrader": {
     "cell_type": "code",
     "checksum": "ce41ff48c82b73f0b1e74ed39c28e85f",
     "grade": true,
     "grade_id": "cell-9b009427c61dbb2b",
     "locked": true,
     "points": 5,
     "schema_version": 3,
     "solution": false,
     "task": false
    },
    "ExecuteTime": {
     "end_time": "2023-09-11T18:25:50.476986600Z",
     "start_time": "2023-09-11T18:25:50.228389400Z"
    }
   },
   "outputs": [],
   "source": [
    "# TEST CASES (INCOMPLETE) for Question 2\n",
    "# INCOMPLETE means that additional test cases will be used to check your answer during grading\n",
    "\n",
    "assert unique_zipcode() > 0\n",
    "assert unique_dob() > 0\n"
   ]
  },
  {
   "cell_type": "markdown",
   "metadata": {},
   "source": [
    "## Question 3 (10 points)\n",
    "\n",
    "Write code to determine the `Education-Num` of the individual named Ardyce Golby by performing a differencing attack. Your code should *only* use aggregate data to find Ardyce's education number."
   ]
  },
  {
   "cell_type": "code",
   "execution_count": 6,
   "metadata": {
    "deletable": false,
    "nbgrader": {
     "cell_type": "code",
     "checksum": "8df97903495b1e9b1994064fef277bdd",
     "grade": false,
     "grade_id": "cell-ef28e136429ae8c2",
     "locked": false,
     "schema_version": 3,
     "solution": true,
     "task": false
    },
    "ExecuteTime": {
     "end_time": "2023-09-11T18:25:50.488763800Z",
     "start_time": "2023-09-11T18:25:50.481764200Z"
    }
   },
   "outputs": [],
   "source": [
    "def ardyce_education():\n",
    "    attack = linking_attack(['DOB', 'Zip'])\n",
    "    return attack['Education-Num'].sum() - attack[attack['Name'] != 'Ardyce Golby']['Education-Num'].sum()"
   ]
  },
  {
   "cell_type": "code",
   "execution_count": 7,
   "metadata": {
    "deletable": false,
    "editable": false,
    "nbgrader": {
     "cell_type": "code",
     "checksum": "8da4b59a750fee877ac13ca81e692791",
     "grade": true,
     "grade_id": "cell-d06fb722893a39a5",
     "locked": true,
     "points": 10,
     "schema_version": 3,
     "solution": false,
     "task": false
    },
    "ExecuteTime": {
     "end_time": "2023-09-11T18:25:50.575764900Z",
     "start_time": "2023-09-11T18:25:50.491762800Z"
    }
   },
   "outputs": [],
   "source": [
    "# TEST CASE for Question 3\n",
    "assert ardyce_education() == 12"
   ]
  }
 ],
 "metadata": {
  "kernelspec": {
   "display_name": "Python 3 (ipykernel)",
   "language": "python",
   "name": "python3"
  },
  "language_info": {
   "codemirror_mode": {
    "name": "ipython",
    "version": 3
   },
   "file_extension": ".py",
   "mimetype": "text/x-python",
   "name": "python",
   "nbconvert_exporter": "python",
   "pygments_lexer": "ipython3",
   "version": "3.10.12"
  }
 },
 "nbformat": 4,
 "nbformat_minor": 4
}
