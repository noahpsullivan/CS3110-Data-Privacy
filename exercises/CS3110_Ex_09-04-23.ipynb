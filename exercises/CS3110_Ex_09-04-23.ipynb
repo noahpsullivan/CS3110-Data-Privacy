{
 "cells": [
  {
   "cell_type": "markdown",
   "metadata": {},
   "source": [
    "# CS 3110/5110: Data Privacy\n",
    "## In-Class Exercises, week of 9/4/2023"
   ]
  },
  {
   "cell_type": "code",
   "execution_count": 1,
   "metadata": {
    "ExecuteTime": {
     "end_time": "2023-09-07T19:54:20.721657100Z",
     "start_time": "2023-09-07T19:54:16.436751900Z"
    }
   },
   "outputs": [],
   "source": [
    "# Load the data and libraries\n",
    "import pandas as pd\n",
    "import numpy as np\n",
    "\n",
    "adult = pd.read_csv('https://github.com/jnear/cs211-data-privacy/raw/master/homework/adult_with_pii.csv')"
   ]
  },
  {
   "cell_type": "markdown",
   "metadata": {},
   "source": [
    "## Question 1\n",
    "\n",
    "Write code to group the `adult` dataset by a single column and count the number of members in each group."
   ]
  },
  {
   "cell_type": "code",
   "execution_count": 2,
   "metadata": {
    "deletable": false,
    "nbgrader": {
     "cell_type": "code",
     "checksum": "dc23ce6b322e340f4c56f77cd599457b",
     "grade": false,
     "grade_id": "cell-055399c92e676783",
     "locked": false,
     "schema_version": 3,
     "solution": true,
     "task": false
    },
    "ExecuteTime": {
     "end_time": "2023-09-07T19:54:20.741585500Z",
     "start_time": "2023-09-07T19:54:20.724619900Z"
    }
   },
   "outputs": [],
   "source": [
    "def group_one_count(col):\n",
    "    return adult.groupby(col).size()"
   ]
  },
  {
   "cell_type": "code",
   "execution_count": 3,
   "metadata": {
    "deletable": false,
    "editable": false,
    "nbgrader": {
     "cell_type": "code",
     "checksum": "e04360bac7e89ce5b4dfd167a157d9a0",
     "grade": false,
     "grade_id": "cell-1b7d2f55d89f7bfb",
     "locked": true,
     "schema_version": 3,
     "solution": false,
     "task": false
    },
    "ExecuteTime": {
     "end_time": "2023-09-07T19:54:20.826333700Z",
     "start_time": "2023-09-07T19:54:20.743589900Z"
    }
   },
   "outputs": [
    {
     "data": {
      "text/plain": "Education\n10th              933\n11th             1175\n12th              433\n1st-4th           168\n5th-6th           333\n7th-8th           646\n9th               514\nAssoc-acdm       1067\nAssoc-voc        1382\nBachelors        5355\nDoctorate         413\nHS-grad         10501\nMasters          1723\nPreschool          51\nProf-school       576\nSome-college     7291\ndtype: int64"
     },
     "execution_count": 3,
     "metadata": {},
     "output_type": "execute_result"
    }
   ],
   "source": [
    "group_one_count('Education')"
   ]
  },
  {
   "cell_type": "code",
   "execution_count": 4,
   "metadata": {
    "deletable": false,
    "editable": false,
    "nbgrader": {
     "cell_type": "code",
     "checksum": "39a0d109403154e47d176c577542d308",
     "grade": true,
     "grade_id": "cell-befc11c8be0bf91b",
     "locked": true,
     "points": 5,
     "schema_version": 3,
     "solution": false,
     "task": false
    },
    "ExecuteTime": {
     "end_time": "2023-09-07T19:54:20.826333700Z",
     "start_time": "2023-09-07T19:54:20.771372200Z"
    }
   },
   "outputs": [],
   "source": [
    "s = group_one_count('Education')\n",
    "assert s['10th'] == 933\n",
    "assert s['9th'] == 514\n",
    "assert s['Some-college'] == 7291"
   ]
  },
  {
   "cell_type": "markdown",
   "metadata": {},
   "source": [
    "## Question 2\n",
    "\n",
    "Write code to group the `adult` dataset by two columns and count the number of members in each group."
   ]
  },
  {
   "cell_type": "code",
   "execution_count": 5,
   "metadata": {
    "deletable": false,
    "nbgrader": {
     "cell_type": "code",
     "checksum": "bda137f6be4a2a7095dc70d8b2528979",
     "grade": false,
     "grade_id": "cell-f6a37efe405c4a98",
     "locked": false,
     "schema_version": 3,
     "solution": true,
     "task": false
    },
    "ExecuteTime": {
     "end_time": "2023-09-07T19:54:20.827355700Z",
     "start_time": "2023-09-07T19:54:20.792710500Z"
    }
   },
   "outputs": [],
   "source": [
    "def group_two_count(col1, col2):\n",
    "    return adult.groupby([col1, col2]).size()"
   ]
  },
  {
   "cell_type": "code",
   "execution_count": 6,
   "metadata": {
    "deletable": false,
    "editable": false,
    "nbgrader": {
     "cell_type": "code",
     "checksum": "c97b74e43122b4e2e37616b5f36e5258",
     "grade": false,
     "grade_id": "cell-c5a57d9ba078cfd0",
     "locked": true,
     "schema_version": 3,
     "solution": false,
     "task": false
    },
    "ExecuteTime": {
     "end_time": "2023-09-07T19:54:20.850517200Z",
     "start_time": "2023-09-07T19:54:20.809913100Z"
    }
   },
   "outputs": [
    {
     "data": {
      "text/plain": "Occupation        Education   \nAdm-clerical      10th             38\n                  11th             67\n                  12th             38\n                  5th-6th           6\n                  7th-8th          11\n                                 ... \nTransport-moving  Doctorate         1\n                  HS-grad         825\n                  Masters          10\n                  Prof-school       3\n                  Some-college    283\nLength: 201, dtype: int64"
     },
     "execution_count": 6,
     "metadata": {},
     "output_type": "execute_result"
    }
   ],
   "source": [
    "group_two_count('Occupation', 'Education')"
   ]
  },
  {
   "cell_type": "code",
   "execution_count": 7,
   "metadata": {
    "deletable": false,
    "editable": false,
    "nbgrader": {
     "cell_type": "code",
     "checksum": "e26daaeb47a1df9ef0be4d2d4f1ed2b8",
     "grade": true,
     "grade_id": "cell-88caedc5d6e44568",
     "locked": true,
     "points": 5,
     "schema_version": 3,
     "solution": false,
     "task": false
    },
    "ExecuteTime": {
     "end_time": "2023-09-07T19:54:20.943891Z",
     "start_time": "2023-09-07T19:54:20.846965300Z"
    }
   },
   "outputs": [],
   "source": [
    "s = group_two_count('Occupation', 'Education')\n",
    "assert s['Transport-moving']['Doctorate'] == 1\n",
    "assert s['Adm-clerical']['10th'] == 38"
   ]
  },
  {
   "cell_type": "markdown",
   "metadata": {},
   "source": [
    "## Question 3\n",
    "\n",
    "Write code to perform a differencing attack to determine Brenn McNeely's age using only the `mean` aggregation function over large groups."
   ]
  },
  {
   "cell_type": "code",
   "execution_count": 8,
   "metadata": {
    "deletable": false,
    "nbgrader": {
     "cell_type": "code",
     "checksum": "7773da7ce0918a58a836b7721186befc",
     "grade": false,
     "grade_id": "cell-6fb63040052b0857",
     "locked": false,
     "schema_version": 3,
     "solution": true,
     "task": false
    },
    "ExecuteTime": {
     "end_time": "2023-09-07T19:54:20.964734600Z",
     "start_time": "2023-09-07T19:54:20.872862Z"
    }
   },
   "outputs": [],
   "source": [
    "def get_brenns_age():\n",
    "     return adult['Age'].sum() - adult[adult['Name'] != 'Brenn McNeely']['Age'].sum()\n",
    "\n",
    "brenns_age = get_brenns_age()"
   ]
  },
  {
   "cell_type": "code",
   "execution_count": 9,
   "metadata": {
    "deletable": false,
    "editable": false,
    "nbgrader": {
     "cell_type": "code",
     "checksum": "8e359a1337a76eba8bd234e4e8c2d02f",
     "grade": true,
     "grade_id": "cell-d66b7d6c32d256c6",
     "locked": true,
     "points": 5,
     "schema_version": 3,
     "solution": false,
     "task": false
    },
    "ExecuteTime": {
     "end_time": "2023-09-07T19:54:20.965736100Z",
     "start_time": "2023-09-07T19:54:20.900440800Z"
    }
   },
   "outputs": [],
   "source": [
    "assert brenns_age == 38.0"
   ]
  },
  {
   "cell_type": "code",
   "execution_count": 10,
   "metadata": {
    "ExecuteTime": {
     "end_time": "2023-09-07T19:54:20.969735100Z",
     "start_time": "2023-09-07T19:54:20.909094300Z"
    }
   },
   "outputs": [
    {
     "data": {
      "text/plain": "   Education         Marital Status Target\n0  Bachelors          Never-married  <=50K\n1  Bachelors     Married-civ-spouse  <=50K\n2    HS-grad               Divorced  <=50K\n3       11th     Married-civ-spouse  <=50K\n4  Bachelors     Married-civ-spouse  <=50K\n5    Masters     Married-civ-spouse  <=50K\n6        9th  Married-spouse-absent  <=50K\n7    HS-grad     Married-civ-spouse   >50K\n8    Masters          Never-married   >50K\n9  Bachelors     Married-civ-spouse   >50K",
      "text/html": "<div>\n<style scoped>\n    .dataframe tbody tr th:only-of-type {\n        vertical-align: middle;\n    }\n\n    .dataframe tbody tr th {\n        vertical-align: top;\n    }\n\n    .dataframe thead th {\n        text-align: right;\n    }\n</style>\n<table border=\"1\" class=\"dataframe\">\n  <thead>\n    <tr style=\"text-align: right;\">\n      <th></th>\n      <th>Education</th>\n      <th>Marital Status</th>\n      <th>Target</th>\n    </tr>\n  </thead>\n  <tbody>\n    <tr>\n      <th>0</th>\n      <td>Bachelors</td>\n      <td>Never-married</td>\n      <td>&lt;=50K</td>\n    </tr>\n    <tr>\n      <th>1</th>\n      <td>Bachelors</td>\n      <td>Married-civ-spouse</td>\n      <td>&lt;=50K</td>\n    </tr>\n    <tr>\n      <th>2</th>\n      <td>HS-grad</td>\n      <td>Divorced</td>\n      <td>&lt;=50K</td>\n    </tr>\n    <tr>\n      <th>3</th>\n      <td>11th</td>\n      <td>Married-civ-spouse</td>\n      <td>&lt;=50K</td>\n    </tr>\n    <tr>\n      <th>4</th>\n      <td>Bachelors</td>\n      <td>Married-civ-spouse</td>\n      <td>&lt;=50K</td>\n    </tr>\n    <tr>\n      <th>5</th>\n      <td>Masters</td>\n      <td>Married-civ-spouse</td>\n      <td>&lt;=50K</td>\n    </tr>\n    <tr>\n      <th>6</th>\n      <td>9th</td>\n      <td>Married-spouse-absent</td>\n      <td>&lt;=50K</td>\n    </tr>\n    <tr>\n      <th>7</th>\n      <td>HS-grad</td>\n      <td>Married-civ-spouse</td>\n      <td>&gt;50K</td>\n    </tr>\n    <tr>\n      <th>8</th>\n      <td>Masters</td>\n      <td>Never-married</td>\n      <td>&gt;50K</td>\n    </tr>\n    <tr>\n      <th>9</th>\n      <td>Bachelors</td>\n      <td>Married-civ-spouse</td>\n      <td>&gt;50K</td>\n    </tr>\n  </tbody>\n</table>\n</div>"
     },
     "execution_count": 10,
     "metadata": {},
     "output_type": "execute_result"
    }
   ],
   "source": [
    "df = adult[['Education', 'Marital Status', 'Target']]\n",
    "df.head(10)"
   ]
  },
  {
   "cell_type": "markdown",
   "metadata": {},
   "source": [
    "## Question 4\n",
    "\n",
    "Does the dataset `df` satisfy $k$-Anonymity for $k=3$? Why not?"
   ]
  },
  {
   "cell_type": "markdown",
   "metadata": {
    "deletable": false,
    "nbgrader": {
     "cell_type": "markdown",
     "checksum": "c61aa8062b9dfebcfcc33281136fd17f",
     "grade": true,
     "grade_id": "cell-a9793d100ba20894",
     "locked": false,
     "points": 5,
     "schema_version": 3,
     "solution": true,
     "task": false
    }
   },
   "source": [
    "It does not. This is because several groups are smaller than the $k$ value of $3$. These groups include every group but *Bachelors* under *Education* and every group but *Married-civ-spouse* under *Marital Status*"
   ]
  },
  {
   "cell_type": "markdown",
   "metadata": {},
   "source": [
    "## Question 5\n",
    "\n",
    "What columns should we designate as quasi-identifiers in the dataset `df`, and why?"
   ]
  },
  {
   "cell_type": "markdown",
   "metadata": {
    "deletable": false,
    "nbgrader": {
     "cell_type": "markdown",
     "checksum": "533486216e9001e1b8e8c2af7b1ceff0",
     "grade": true,
     "grade_id": "cell-5cfd666564429892",
     "locked": false,
     "points": 5,
     "schema_version": 3,
     "solution": true,
     "task": false
    }
   },
   "source": [
    "All of these columns can be considered quasi-identifiers as none of them directly identify a subject but can fairly easily be used in a linkage attack"
   ]
  },
  {
   "cell_type": "markdown",
   "metadata": {},
   "source": [
    "## Question 6\n",
    "\n",
    "Imagine the column `Target` is *not* a quasi-identifier, and we generalize the dataset to achieve $k$-Anonymity for $k=2$ as follows:\n",
    "\n",
    "- Replace each education level below \"HS Grad\" with `< HS` and others with `>= HS`\n",
    "- Replace marital status with `Married` and `Not Married`\n",
    "- Delete rows as required to achieve $k$-anonymity for $k=2$\n",
    "\n",
    "For which rows is a homogeneity attack possible, and why?"
   ]
  },
  {
   "cell_type": "markdown",
   "metadata": {
    "deletable": false,
    "nbgrader": {
     "cell_type": "markdown",
     "checksum": "cf4facb2adda1e9a3e769bc994597e64",
     "grade": true,
     "grade_id": "cell-5932f02f09b5cacb",
     "locked": false,
     "points": 5,
     "schema_version": 3,
     "solution": true,
     "task": false
    }
   },
   "source": [
    "A homogeneity attack can be used to determine that anyone in the dataset with an education level below \"HS Grad\" (rows 3 and 6) makes at most $50k annually. This is because all *Education* values of `< HS` are in rows that also have *Target* values of `<= 50k`."
   ]
  },
  {
   "cell_type": "markdown",
   "metadata": {},
   "source": [
    "## Question 7\n",
    "\n",
    "Write code to generalize the `Zip` column in the adult dataset."
   ]
  },
  {
   "cell_type": "code",
   "execution_count": 11,
   "metadata": {
    "deletable": false,
    "nbgrader": {
     "cell_type": "code",
     "checksum": "ae1bd87895a7b5a030e010032949c5f6",
     "grade": false,
     "grade_id": "cell-be9a4264a0e58938",
     "locked": false,
     "schema_version": 3,
     "solution": true,
     "task": false
    },
    "ExecuteTime": {
     "end_time": "2023-09-07T19:54:20.983988200Z",
     "start_time": "2023-09-07T19:54:20.945725700Z"
    }
   },
   "outputs": [],
   "source": [
    "def generalize_zip(zip, l):\n",
    "    # Use modulo to get trailing digits and subtract from original\n",
    "    return zip - (zip % (10 ** l))"
   ]
  },
  {
   "cell_type": "code",
   "execution_count": 12,
   "metadata": {
    "deletable": false,
    "editable": false,
    "nbgrader": {
     "cell_type": "code",
     "checksum": "2f486aeed59a6e6fba770601a1143c54",
     "grade": true,
     "grade_id": "cell-256688fe78b8f7bf",
     "locked": true,
     "points": 5,
     "schema_version": 3,
     "solution": false,
     "task": false
    },
    "ExecuteTime": {
     "end_time": "2023-09-07T19:54:20.983988200Z",
     "start_time": "2023-09-07T19:54:20.954773500Z"
    }
   },
   "outputs": [],
   "source": [
    "# Test cases\n",
    "assert generalize_zip(47401, 0) == 47401\n",
    "assert generalize_zip(47401, 1) == 47400\n",
    "assert generalize_zip(47401, 2) == 47400\n",
    "assert generalize_zip(47401, 3) == 47000\n",
    "assert generalize_zip(47401, 4) == 40000\n",
    "assert generalize_zip(47401, 5) == 0"
   ]
  }
 ],
 "metadata": {
  "kernelspec": {
   "display_name": "Python 3 (ipykernel)",
   "language": "python",
   "name": "python3"
  },
  "language_info": {
   "codemirror_mode": {
    "name": "ipython",
    "version": 3
   },
   "file_extension": ".py",
   "mimetype": "text/x-python",
   "name": "python",
   "nbconvert_exporter": "python",
   "pygments_lexer": "ipython3",
   "version": "3.10.12"
  }
 },
 "nbformat": 4,
 "nbformat_minor": 4
}
