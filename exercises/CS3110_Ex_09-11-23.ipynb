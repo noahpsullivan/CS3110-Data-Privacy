{
 "cells": [
  {
   "cell_type": "markdown",
   "metadata": {},
   "source": [
    "# CS 3110/5110: Data Privacy\n",
    "## In-Class Exercises, week of 9/11/2023"
   ]
  },
  {
   "cell_type": "code",
   "execution_count": 12,
   "metadata": {
    "ExecuteTime": {
     "end_time": "2023-09-18T02:34:27.683907800Z",
     "start_time": "2023-09-18T02:34:26.512704100Z"
    }
   },
   "outputs": [],
   "source": [
    "# Load the data and libraries\n",
    "import pandas as pd\n",
    "import numpy as np\n",
    "from scipy import stats\n",
    "import matplotlib.pyplot as plt\n",
    "\n",
    "adult = pd.read_csv('https://github.com/jnear/cs3110-data-privacy/raw/main/homework/adult_with_pii.csv')"
   ]
  },
  {
   "cell_type": "markdown",
   "metadata": {},
   "source": [
    "## Question 1\n",
    "\n",
    "Write a *counting query* to determine whether or not Karrie Trusslove's age is 39."
   ]
  },
  {
   "cell_type": "code",
   "execution_count": 13,
   "metadata": {
    "deletable": false,
    "nbgrader": {
     "cell_type": "code",
     "checksum": "5868fbd8a4651094c7814b84b4015247",
     "grade": false,
     "grade_id": "cell-e9c0c06eb7735ea3",
     "locked": false,
     "schema_version": 3,
     "solution": true,
     "task": false
    },
    "ExecuteTime": {
     "end_time": "2023-09-18T02:34:27.693497900Z",
     "start_time": "2023-09-18T02:34:27.687771400Z"
    }
   },
   "outputs": [],
   "source": [
    "def karrie_query():\n",
    "    karries_row = adult[adult['Name'] == 'Karrie Trusslove']\n",
    "    return karries_row[karries_row['Age'] == 39].shape[0]"
   ]
  },
  {
   "cell_type": "code",
   "execution_count": 14,
   "metadata": {
    "deletable": false,
    "editable": false,
    "nbgrader": {
     "cell_type": "code",
     "checksum": "892dc90720e17d35952c0effcc37f458",
     "grade": true,
     "grade_id": "cell-f93cfd0eb59130ed",
     "locked": true,
     "points": 5,
     "schema_version": 3,
     "solution": false,
     "task": false
    },
    "ExecuteTime": {
     "end_time": "2023-09-18T02:34:27.715752200Z",
     "start_time": "2023-09-18T02:34:27.695491200Z"
    }
   },
   "outputs": [],
   "source": [
    "# TEST CASE \n",
    "\n",
    "assert karrie_query() == 1"
   ]
  },
  {
   "cell_type": "markdown",
   "metadata": {},
   "source": [
    "## Question 2\n",
    "\n",
    "Add Laplace noise to the counting query you wrote in the last question to ensure differential privacy for $\\epsilon = 1.0$."
   ]
  },
  {
   "cell_type": "code",
   "execution_count": 15,
   "metadata": {
    "deletable": false,
    "nbgrader": {
     "cell_type": "code",
     "checksum": "69717756b100a54b71507c8fa2b9f55e",
     "grade": false,
     "grade_id": "cell-8ad72c55497bc534",
     "locked": false,
     "schema_version": 3,
     "solution": true,
     "task": false
    },
    "ExecuteTime": {
     "end_time": "2023-09-18T02:34:27.715752200Z",
     "start_time": "2023-09-18T02:34:27.708859Z"
    }
   },
   "outputs": [],
   "source": [
    "sensitivity = 1 # Always sens 1 for counting query\n",
    "epsilon = 1.0   # Spec\n",
    "\n",
    "def dp_karrie_query():    \n",
    "    karries_row = adult[adult['Name'] == 'Karrie Trusslove']\n",
    "    return karries_row[karries_row['Age'] == 39].shape[0] + np.random.laplace(loc=0, scale=sensitivity/epsilon)"
   ]
  },
  {
   "cell_type": "code",
   "execution_count": 16,
   "metadata": {
    "deletable": false,
    "editable": false,
    "nbgrader": {
     "cell_type": "code",
     "checksum": "baa91c2bfe1e6987c6f337732f61ac5f",
     "grade": true,
     "grade_id": "cell-a7c9bd084e5c5bdf",
     "locked": true,
     "points": 5,
     "schema_version": 3,
     "solution": false,
     "task": false
    },
    "ExecuteTime": {
     "end_time": "2023-09-18T02:34:28.028766700Z",
     "start_time": "2023-09-18T02:34:27.716862100Z"
    }
   },
   "outputs": [],
   "source": [
    "# TEST CASE \n",
    "\n",
    "q2_runs = [dp_karrie_query() for _ in range(100)]\n",
    "noise_runs = [np.random.laplace(loc=1, scale=1/epsilon) for _ in range(100)]\n",
    "\n",
    "assert stats.wasserstein_distance(q2_runs, noise_runs) < 1"
   ]
  },
  {
   "cell_type": "markdown",
   "metadata": {},
   "source": [
    "## Question 3\n",
    "\n",
    "In 2-4 sentences, describe how `dp_karrie_query` protects Karrie's privacy."
   ]
  },
  {
   "cell_type": "markdown",
   "metadata": {
    "deletable": false,
    "nbgrader": {
     "cell_type": "markdown",
     "checksum": "b23a9213e39e3363e4d3e7cc629a15a4",
     "grade": true,
     "grade_id": "cell-07337a085c0ba0e1",
     "locked": false,
     "points": 5,
     "schema_version": 3,
     "solution": true,
     "task": false
    }
   },
   "source": [
    "`dp_karrie_query` protects Karrie's privacy by adding random noise to the result of the query. If tuned correctly this keeps the returned data useful enough for analysis but not so precise that it could potentially identify Karrie."
   ]
  },
  {
   "cell_type": "markdown",
   "metadata": {},
   "source": [
    "## Question 4\n",
    "\n",
    "Implement a function to construct an *empirical distribution* over random samples from the Laplace distribution with location 0 and scale `scale`. Use 1000 samples."
   ]
  },
  {
   "cell_type": "code",
   "execution_count": 17,
   "metadata": {
    "deletable": false,
    "nbgrader": {
     "cell_type": "code",
     "checksum": "36e271e39d3b9efb374514de6b58c769",
     "grade": false,
     "grade_id": "cell-e7ddf0e4b195dfdc",
     "locked": false,
     "schema_version": 3,
     "solution": true,
     "task": false
    },
    "ExecuteTime": {
     "end_time": "2023-09-18T02:34:28.395949Z",
     "start_time": "2023-09-18T02:34:28.032172900Z"
    }
   },
   "outputs": [
    {
     "data": {
      "text/plain": "<Figure size 640x480 with 1 Axes>",
      "image/png": "[encoded data removed]"
     },
     "metadata": {},
     "output_type": "display_data"
    }
   ],
   "source": [
    "def empirical_dist_lap(scale):\n",
    "    return [np.random.laplace(loc=0, scale=scale) for x in range(1000)]\n",
    "\n",
    "epsilon1 = 1.0\n",
    "epsilon2 = 2.0\n",
    "\n",
    "plt.hist(empirical_dist_lap(1/epsilon1), bins=50);\n",
    "plt.hist(empirical_dist_lap(1/epsilon2), bins=50, alpha=.7);"
   ]
  },
  {
   "cell_type": "code",
   "execution_count": 18,
   "metadata": {
    "deletable": false,
    "editable": false,
    "nbgrader": {
     "cell_type": "code",
     "checksum": "4ae51dc3beb1b2d1b08e84aad405fa17",
     "grade": true,
     "grade_id": "cell-e68891bb70939fd0",
     "locked": true,
     "points": 5,
     "schema_version": 3,
     "solution": false,
     "task": false
    },
    "ExecuteTime": {
     "end_time": "2023-09-18T02:34:28.395949Z",
     "start_time": "2023-09-18T02:34:28.391950800Z"
    }
   },
   "outputs": [],
   "source": [
    "# PLACEHOLDER for test cases\n"
   ]
  },
  {
   "cell_type": "markdown",
   "metadata": {},
   "source": [
    "## Question 5\n",
    "\n",
    "Consider the program below."
   ]
  },
  {
   "cell_type": "code",
   "execution_count": 19,
   "metadata": {
    "ExecuteTime": {
     "end_time": "2023-09-18T02:34:28.406007200Z",
     "start_time": "2023-09-18T02:34:28.398104500Z"
    }
   },
   "outputs": [
    {
     "name": "stdout",
     "output_type": "stream",
     "text": [
      "1.3187889368956178 1.6192433092260228 -0.09251513218043517\n"
     ]
    }
   ],
   "source": [
    "counting_query = lambda: 1\n",
    "\n",
    "result_1 = counting_query() + np.random.laplace(loc=0, scale=1/epsilon1)\n",
    "result_2 = counting_query() + np.random.laplace(loc=0, scale=1/epsilon2)\n",
    "result_3 = counting_query() + np.random.laplace(loc=0, scale=1/epsilon1)\n",
    "\n",
    "print(result_1, result_2, result_3)"
   ]
  },
  {
   "cell_type": "markdown",
   "metadata": {},
   "source": [
    "Write a function `total_epsilon` that returns the total privacy cost for this program."
   ]
  },
  {
   "cell_type": "code",
   "execution_count": 20,
   "metadata": {
    "deletable": false,
    "nbgrader": {
     "cell_type": "code",
     "checksum": "acf2948c80694922d54ad353bd5dfce3",
     "grade": false,
     "grade_id": "cell-32b1cdb0a2990e8f",
     "locked": false,
     "schema_version": 3,
     "solution": true,
     "task": false
    },
    "ExecuteTime": {
     "end_time": "2023-09-18T02:34:28.418001900Z",
     "start_time": "2023-09-18T02:34:28.408060600Z"
    }
   },
   "outputs": [],
   "source": [
    "# This blatantly isn't right I'm just baffled\n",
    "\n",
    "def total_epsilon():\n",
    "    return result_1 + result_2 + result_3"
   ]
  },
  {
   "cell_type": "code",
   "execution_count": 21,
   "metadata": {
    "deletable": false,
    "editable": false,
    "nbgrader": {
     "cell_type": "code",
     "checksum": "77f0d3f25290c6a4d64e9fed5fdb91fe",
     "grade": true,
     "grade_id": "cell-e484920fc1429ad0",
     "locked": true,
     "points": 5,
     "schema_version": 3,
     "solution": false,
     "task": false
    },
    "ExecuteTime": {
     "end_time": "2023-09-18T02:34:28.519756900Z",
     "start_time": "2023-09-18T02:34:28.417403500Z"
    }
   },
   "outputs": [],
   "source": [
    "# Placeholder for test case\n"
   ]
  }
 ],
 "metadata": {
  "kernelspec": {
   "display_name": "Python 3 (ipykernel)",
   "language": "python",
   "name": "python3"
  },
  "language_info": {
   "codemirror_mode": {
    "name": "ipython",
    "version": 3
   },
   "file_extension": ".py",
   "mimetype": "text/x-python",
   "name": "python",
   "nbconvert_exporter": "python",
   "pygments_lexer": "ipython3",
   "version": "3.10.12"
  }
 },
 "nbformat": 4,
 "nbformat_minor": 4
}
