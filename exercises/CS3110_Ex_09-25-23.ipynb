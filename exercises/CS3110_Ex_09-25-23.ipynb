{
 "cells": [
  {
   "cell_type": "markdown",
   "metadata": {},
   "source": [
    "# CS 3110/3990: Data Privacy\n",
    "## In-Class Exercise, Week of 9/25/2023"
   ]
  },
  {
   "cell_type": "code",
   "execution_count": 1,
   "metadata": {
    "ExecuteTime": {
     "end_time": "2023-12-09T19:25:54.833073Z",
     "start_time": "2023-12-09T19:25:51.780012700Z"
    }
   },
   "outputs": [],
   "source": [
    "# Load the data and libraries\n",
    "import pandas as pd\n",
    "import numpy as np\n",
    "from scipy import stats\n",
    "import matplotlib.pyplot as plt\n",
    "\n",
    "def laplace_mech(v, sensitivity, epsilon):\n",
    "    return v + np.random.laplace(loc=0, scale=sensitivity / epsilon)\n",
    "\n",
    "def pct_error(orig, priv):\n",
    "    return np.abs(orig - priv)/orig * 100.0\n",
    "\n",
    "adult = pd.read_csv('https://github.com/jnear/cs3110-data-privacy/raw/main/homework/adult_with_pii.csv')"
   ]
  },
  {
   "cell_type": "markdown",
   "metadata": {},
   "source": [
    "## Question 1\n",
    "\n",
    "For various values of $b$, write code to print out the percent error of summing the ages in the `adult` dataset, \n",
    "clipped to each value of $b$."
   ]
  },
  {
   "cell_type": "code",
   "execution_count": 2,
   "metadata": {
    "deletable": false,
    "nbgrader": {
     "cell_type": "code",
     "checksum": "5017dfb00b9fa0c28dc47d5e03672bcc",
     "grade": false,
     "grade_id": "cell-bb6f4fe4b3beb456",
     "locked": false,
     "schema_version": 3,
     "solution": true,
     "task": false
    },
    "ExecuteTime": {
     "end_time": "2023-12-09T19:26:18.068999500Z",
     "start_time": "2023-12-09T19:26:18.043942100Z"
    }
   },
   "outputs": [
    {
     "name": "stdout",
     "output_type": "stream",
     "text": [
      "Percent error, b= 1 :  97.4080940444511\n",
      "Percent error, b= 11 :  71.48903448896206\n",
      "Percent error, b= 21 :  46.000380495392264\n",
      "Percent error, b= 31 :  25.509031989473492\n",
      "Percent error, b= 41 :  11.7959939725709\n",
      "Percent error, b= 51 :  4.329687317165198\n",
      "Percent error, b= 61 :  1.1587597123836921\n",
      "Percent error, b= 71 :  0.2341877497996031\n",
      "Percent error, b= 81 :  0.03860675005194001\n",
      "Percent error, b= 91 :  0.0\n"
     ]
    }
   ],
   "source": [
    "bs = range(1, 100, 10)\n",
    "real_sum = adult['Age'].sum()\n",
    "\n",
    "for b in bs:\n",
    "    clipped_sum = adult['Age'].clip(lower=0, upper=b).sum()\n",
    "    print('Percent error, b=', b, ': ', pct_error(real_sum, clipped_sum))"
   ]
  },
  {
   "cell_type": "markdown",
   "metadata": {},
   "source": [
    "What value of $b$ is the best?"
   ]
  },
  {
   "cell_type": "markdown",
   "metadata": {
    "deletable": false,
    "nbgrader": {
     "cell_type": "markdown",
     "checksum": "b5ae2ac2b16c4f62b326bccf0184692b",
     "grade": true,
     "grade_id": "cell-250b062d06204617",
     "locked": false,
     "points": 5,
     "schema_version": 3,
     "solution": true,
     "task": false
    }
   },
   "source": [
    "$b = 91$ because it results in 0 error"
   ]
  },
  {
   "cell_type": "markdown",
   "metadata": {},
   "source": [
    "## Question 2\n",
    "\n",
    "For various values of $b$, print the result of a *differentially private* sum of ages, clipped to each value of $b$. Use $\\epsilon = 0.1$."
   ]
  },
  {
   "cell_type": "code",
   "execution_count": 4,
   "metadata": {
    "deletable": false,
    "nbgrader": {
     "cell_type": "code",
     "checksum": "fce2c03e38136df9fa6c79119866a44c",
     "grade": false,
     "grade_id": "cell-dca4f1bfa29d353d",
     "locked": false,
     "schema_version": 3,
     "solution": true,
     "task": false
    },
    "ExecuteTime": {
     "end_time": "2023-12-09T19:27:56.055780200Z",
     "start_time": "2023-12-09T19:27:56.030107900Z"
    }
   },
   "outputs": [
    {
     "name": "stdout",
     "output_type": "stream",
     "text": [
      "Percent error, b= 1 :  97.40803358331216\n",
      "Percent error, b= 11 :  71.48739342595698\n",
      "Percent error, b= 21 :  46.005996789192956\n",
      "Percent error, b= 31 :  25.527706367777224\n",
      "Percent error, b= 41 :  11.794417684536647\n",
      "Percent error, b= 51 :  4.437263108713219\n",
      "Percent error, b= 61 :  1.1823562072606495\n",
      "Percent error, b= 71 :  0.26182118219685707\n",
      "Percent error, b= 81 :  0.12972741478458652\n",
      "Percent error, b= 91 :  0.0625574478897086\n"
     ]
    }
   ],
   "source": [
    "bs = range(1, 100, 10)\n",
    "real_sum = adult['Age'].sum()\n",
    "\n",
    "for b in bs:\n",
    "    clipped_sum = adult['Age'].clip(lower=0, upper=b).sum()\n",
    "    dp_sum = laplace_mech(clipped_sum, b, 0.1)\n",
    "    print('Percent error, b=', b, ': ', pct_error(real_sum, dp_sum))"
   ]
  },
  {
   "cell_type": "markdown",
   "metadata": {},
   "source": [
    "Which value of $b$ is the best now? Does it differ?"
   ]
  },
  {
   "cell_type": "markdown",
   "metadata": {
    "deletable": false,
    "nbgrader": {
     "cell_type": "markdown",
     "checksum": "a6614c5f0fba0ddceddde10ee8626362",
     "grade": true,
     "grade_id": "cell-fee4808b879b0a04",
     "locked": false,
     "points": 5,
     "schema_version": 3,
     "solution": true,
     "task": false
    }
   },
   "source": [
    "$b = 91$ , the error is still the lowest"
   ]
  },
  {
   "cell_type": "markdown",
   "metadata": {},
   "source": [
    "## Question 3\n",
    "\n",
    "Write an algorithm to *automatically pick the clipping parameter* for the age column. Your algorithm should satisfy differential privacy."
   ]
  },
  {
   "cell_type": "code",
   "execution_count": 5,
   "metadata": {
    "deletable": false,
    "nbgrader": {
     "cell_type": "code",
     "checksum": "0da086ab81420b019466185a8bbaf8c1",
     "grade": false,
     "grade_id": "cell-9a41939138d41f6f",
     "locked": false,
     "schema_version": 3,
     "solution": true,
     "task": false
    },
    "ExecuteTime": {
     "end_time": "2023-12-09T19:30:10.997865600Z",
     "start_time": "2023-12-09T19:30:10.978838900Z"
    }
   },
   "outputs": [
    {
     "data": {
      "text/plain": "151"
     },
     "execution_count": 5,
     "metadata": {},
     "output_type": "execute_result"
    }
   ],
   "source": [
    "def pick_b(epsilon):\n",
    "    candidate_bs = range(1, 1000, 50)\n",
    "    dp_sums = []\n",
    "\n",
    "    for i in range(len(candidate_bs)):\n",
    "        candidate_b = candidate_bs[i]\n",
    "        clipped_sum = adult['Age'].clip(lower=0, upper=b).sum()\n",
    "        dp_sum = laplace_mech(clipped_sum, b, epsilon)\n",
    "        if i > 1 and abs(dp_sum - dp_sums[-1]) < 50:\n",
    "            return candidate_b\n",
    "        else:\n",
    "            dp_sums.append(dp_sum)\n",
    "    return candidate_bs[-1]\n",
    "\n",
    "pick_b(1.0)"
   ]
  },
  {
   "cell_type": "code",
   "execution_count": 6,
   "metadata": {
    "deletable": false,
    "editable": false,
    "nbgrader": {
     "cell_type": "code",
     "checksum": "692492fba66dc0685be8dee946edbed7",
     "grade": true,
     "grade_id": "cell-136e29134703a26b",
     "locked": true,
     "points": 5,
     "schema_version": 3,
     "solution": false,
     "task": false
    },
    "ExecuteTime": {
     "end_time": "2023-12-09T19:30:15.046855900Z",
     "start_time": "2023-12-09T19:30:14.384723600Z"
    }
   },
   "outputs": [],
   "source": [
    "# TEST CASE for question 3\n",
    "\n",
    "many_trials = np.mean([pick_b(1.0) for _ in range(100)])\n",
    "assert many_trials > 70\n",
    "assert many_trials < 500"
   ]
  },
  {
   "cell_type": "markdown",
   "metadata": {},
   "source": [
    "## Question 4\n",
    "\n",
    "What is the privacy cost of your algorithm, and why?"
   ]
  },
  {
   "cell_type": "markdown",
   "metadata": {
    "deletable": false,
    "nbgrader": {
     "cell_type": "markdown",
     "checksum": "e3b3bf3b0934d4a2d9429867fd118ab4",
     "grade": true,
     "grade_id": "cell-5e3ac9bbd3f179e9",
     "locked": false,
     "points": 5,
     "schema_version": 3,
     "solution": true,
     "task": false
    }
   },
   "source": [
    "This algorithm performs at most 20 loops of $\\epsilon$ privacy cost, resulting in a total privacy cost of $20\\epsilon$ privacy cost by sequential composition."
   ]
  },
  {
   "cell_type": "markdown",
   "metadata": {},
   "source": [
    "## Question 5\n",
    "\n",
    "Write code to generate a *histogram* of education numbers in the `adult` dataset."
   ]
  },
  {
   "cell_type": "code",
   "execution_count": 7,
   "metadata": {
    "deletable": false,
    "nbgrader": {
     "cell_type": "code",
     "checksum": "a4c084311f288978d7388707ed803dc4",
     "grade": false,
     "grade_id": "cell-ee86a67be2f997fb",
     "locked": false,
     "schema_version": 3,
     "solution": true,
     "task": false
    },
    "ExecuteTime": {
     "end_time": "2023-12-09T19:40:35.095895400Z",
     "start_time": "2023-12-09T19:40:35.076323900Z"
    }
   },
   "outputs": [
    {
     "data": {
      "text/plain": "Education\nHS-grad         10501\nSome-college     7291\nBachelors        5355\nMasters          1723\nAssoc-voc        1382\n11th             1175\nAssoc-acdm       1067\n10th              933\n7th-8th           646\nProf-school       576\n9th               514\n12th              433\nDoctorate         413\n5th-6th           333\n1st-4th           168\nPreschool          51\nName: count, dtype: int64"
     },
     "execution_count": 7,
     "metadata": {},
     "output_type": "execute_result"
    }
   ],
   "source": [
    "def education_hist():\n",
    "    return adult['Education'].value_counts()\n",
    "\n",
    "education_hist()"
   ]
  },
  {
   "cell_type": "code",
   "execution_count": 8,
   "metadata": {
    "deletable": false,
    "editable": false,
    "nbgrader": {
     "cell_type": "code",
     "checksum": "9ca7a5909d65acf22b40eef95b77ef24",
     "grade": true,
     "grade_id": "cell-7e1309ee016dc1b0",
     "locked": true,
     "points": 5,
     "schema_version": 3,
     "solution": false,
     "task": false
    },
    "ExecuteTime": {
     "end_time": "2023-12-09T19:40:42.607233700Z",
     "start_time": "2023-12-09T19:40:42.587273300Z"
    }
   },
   "outputs": [],
   "source": [
    "# TEST CASE for question 5\n",
    "h = education_hist()\n",
    "assert h['HS-grad'] == 10501\n",
    "assert h['12th'] == 433\n",
    "assert h['Doctorate'] == 413"
   ]
  },
  {
   "cell_type": "markdown",
   "metadata": {},
   "source": [
    "## Question 6\n",
    "\n",
    "Write code to release a *differentially private histogram* of education numbers."
   ]
  },
  {
   "cell_type": "code",
   "execution_count": 9,
   "metadata": {
    "deletable": false,
    "nbgrader": {
     "cell_type": "code",
     "checksum": "78135ffc0ddb6f5f824c4380c31fa067",
     "grade": false,
     "grade_id": "cell-e5d6ede7edcdc46e",
     "locked": false,
     "schema_version": 3,
     "solution": true,
     "task": false
    },
    "ExecuteTime": {
     "end_time": "2023-12-09T19:41:26.526932Z",
     "start_time": "2023-12-09T19:41:26.513410600Z"
    }
   },
   "outputs": [
    {
     "data": {
      "text/plain": "Education\nHS-grad         10499.857726\nSome-college     7291.492984\nBachelors        5356.469990\nMasters          1725.927397\nAssoc-voc        1385.012080\n11th             1174.610334\nAssoc-acdm       1067.352173\n10th              933.705299\n7th-8th           645.515780\nProf-school       575.309513\n9th               514.030597\n12th              431.450244\nDoctorate         412.176248\n5th-6th           332.935597\n1st-4th           169.484115\nPreschool          52.577056\nName: count, dtype: float64"
     },
     "execution_count": 9,
     "metadata": {},
     "output_type": "execute_result"
    }
   ],
   "source": [
    "def dp_education_hist(epsilon):\n",
    "    return education_hist().apply(lambda x: laplace_mech(x, 1, epsilon))\n",
    "\n",
    "dp_education_hist(1.0)"
   ]
  },
  {
   "cell_type": "code",
   "execution_count": 10,
   "metadata": {
    "deletable": false,
    "editable": false,
    "nbgrader": {
     "cell_type": "code",
     "checksum": "b6d8b325844651b39c4e402d3bfac373",
     "grade": true,
     "grade_id": "cell-3d994871e2ce6873",
     "locked": true,
     "points": 5,
     "schema_version": 3,
     "solution": false,
     "task": false
    },
    "ExecuteTime": {
     "end_time": "2023-12-09T19:41:28.608135300Z",
     "start_time": "2023-12-09T19:41:28.594292100Z"
    }
   },
   "outputs": [],
   "source": [
    "# TEST CASE for question 6\n",
    "h = dp_education_hist(1.0)\n",
    "assert abs(h['HS-grad'] - 10501) < 100\n",
    "assert abs(h['Doctorate'] - 413) < 100"
   ]
  },
  {
   "cell_type": "markdown",
   "metadata": {},
   "source": [
    "## Question 7\n",
    "\n",
    "What is the total privacy cost of `dp_education_hist`, and why?"
   ]
  },
  {
   "cell_type": "markdown",
   "metadata": {
    "deletable": false,
    "nbgrader": {
     "cell_type": "markdown",
     "checksum": "b260643b7d27a6d1ba3d243471dd2758",
     "grade": true,
     "grade_id": "cell-892ecfb572a7e900",
     "locked": false,
     "points": 5,
     "schema_version": 3,
     "solution": true,
     "task": false
    }
   },
   "source": [
    "The total privacy cost is $\\epsilon$ by parallel composition."
   ]
  },
  {
   "cell_type": "markdown",
   "metadata": {},
   "source": [
    "## Question 8\n",
    "\n",
    "Write code to generate a differentially private *contingency table* for the Education and Sex columns of the `adult` dataset."
   ]
  },
  {
   "cell_type": "code",
   "execution_count": 11,
   "metadata": {
    "deletable": false,
    "nbgrader": {
     "cell_type": "code",
     "checksum": "f1d36e02ba769a0419701627a6a54a5c",
     "grade": false,
     "grade_id": "cell-8ee68bcf1e36b660",
     "locked": false,
     "schema_version": 3,
     "solution": true,
     "task": false
    },
    "ExecuteTime": {
     "end_time": "2023-12-09T19:49:50.889419Z",
     "start_time": "2023-12-09T19:49:50.849178200Z"
    }
   },
   "outputs": [
    {
     "data": {
      "text/plain": "Sex                Female         Male\nEducation                             \n10th           294.644124   638.316433\n11th           431.592416   742.410009\n12th           141.121078   291.829936\n1st-4th         45.377628   122.163917\n5th-6th         83.118964   248.125885\n7th-8th        161.886333   484.674782\n9th            142.964677   369.137796\nAssoc-acdm     422.920738   643.987425\nAssoc-voc      500.104977   885.669524\nBachelors     1618.902541  3735.333406\nDoctorate       85.056526   326.047713\nHS-grad       3389.608930  7110.705346\nMasters        534.553129  1186.949270\nPreschool       16.599924    34.234657\nProf-school     97.562545   481.479946\nSome-college  2806.279443  4481.840375",
      "text/html": "<div>\n<style scoped>\n    .dataframe tbody tr th:only-of-type {\n        vertical-align: middle;\n    }\n\n    .dataframe tbody tr th {\n        vertical-align: top;\n    }\n\n    .dataframe thead th {\n        text-align: right;\n    }\n</style>\n<table border=\"1\" class=\"dataframe\">\n  <thead>\n    <tr style=\"text-align: right;\">\n      <th>Sex</th>\n      <th>Female</th>\n      <th>Male</th>\n    </tr>\n    <tr>\n      <th>Education</th>\n      <th></th>\n      <th></th>\n    </tr>\n  </thead>\n  <tbody>\n    <tr>\n      <th>10th</th>\n      <td>294.644124</td>\n      <td>638.316433</td>\n    </tr>\n    <tr>\n      <th>11th</th>\n      <td>431.592416</td>\n      <td>742.410009</td>\n    </tr>\n    <tr>\n      <th>12th</th>\n      <td>141.121078</td>\n      <td>291.829936</td>\n    </tr>\n    <tr>\n      <th>1st-4th</th>\n      <td>45.377628</td>\n      <td>122.163917</td>\n    </tr>\n    <tr>\n      <th>5th-6th</th>\n      <td>83.118964</td>\n      <td>248.125885</td>\n    </tr>\n    <tr>\n      <th>7th-8th</th>\n      <td>161.886333</td>\n      <td>484.674782</td>\n    </tr>\n    <tr>\n      <th>9th</th>\n      <td>142.964677</td>\n      <td>369.137796</td>\n    </tr>\n    <tr>\n      <th>Assoc-acdm</th>\n      <td>422.920738</td>\n      <td>643.987425</td>\n    </tr>\n    <tr>\n      <th>Assoc-voc</th>\n      <td>500.104977</td>\n      <td>885.669524</td>\n    </tr>\n    <tr>\n      <th>Bachelors</th>\n      <td>1618.902541</td>\n      <td>3735.333406</td>\n    </tr>\n    <tr>\n      <th>Doctorate</th>\n      <td>85.056526</td>\n      <td>326.047713</td>\n    </tr>\n    <tr>\n      <th>HS-grad</th>\n      <td>3389.608930</td>\n      <td>7110.705346</td>\n    </tr>\n    <tr>\n      <th>Masters</th>\n      <td>534.553129</td>\n      <td>1186.949270</td>\n    </tr>\n    <tr>\n      <th>Preschool</th>\n      <td>16.599924</td>\n      <td>34.234657</td>\n    </tr>\n    <tr>\n      <th>Prof-school</th>\n      <td>97.562545</td>\n      <td>481.479946</td>\n    </tr>\n    <tr>\n      <th>Some-college</th>\n      <td>2806.279443</td>\n      <td>4481.840375</td>\n    </tr>\n  </tbody>\n</table>\n</div>"
     },
     "execution_count": 11,
     "metadata": {},
     "output_type": "execute_result"
    }
   ],
   "source": [
    "def dp_crosstab_education_sex(epsilon):\n",
    "    ct = pd.crosstab(adult['Education'], adult['Sex'])\n",
    "    return ct.applymap(lambda x: laplace_mech(x, 1, epsilon))\n",
    "\n",
    "dp_crosstab_education_sex(1.0)"
   ]
  },
  {
   "cell_type": "code",
   "execution_count": 12,
   "metadata": {
    "deletable": false,
    "editable": false,
    "nbgrader": {
     "cell_type": "code",
     "checksum": "c75206f511320740052bb35011d31e14",
     "grade": true,
     "grade_id": "cell-8793de8189968533",
     "locked": true,
     "points": 5,
     "schema_version": 3,
     "solution": false,
     "task": false
    },
    "ExecuteTime": {
     "end_time": "2023-12-09T19:49:53.706761200Z",
     "start_time": "2023-12-09T19:49:53.685086400Z"
    }
   },
   "outputs": [],
   "source": [
    "# TEST CASE for question 8\n",
    "ct = dp_crosstab_education_sex(1.0)\n",
    "assert abs(ct['Female']['10th'] - 295) < 100\n",
    "assert abs(ct['Male']['10th'] - 638) < 100\n",
    "assert abs(ct['Female']['Bachelors'] - 1619) < 100\n",
    "\n",
    "assert abs(ct['Female']['10th'] - 295) > 0\n",
    "assert abs(ct['Male']['10th'] - 638) > 0\n",
    "assert abs(ct['Female']['Bachelors'] - 1619) > 0"
   ]
  },
  {
   "cell_type": "markdown",
   "metadata": {},
   "source": [
    "## Question 9\n",
    "\n",
    "Does parallel composition apply for the contingency table in question 1? Why or why not?"
   ]
  },
  {
   "cell_type": "markdown",
   "metadata": {
    "deletable": false,
    "nbgrader": {
     "cell_type": "markdown",
     "checksum": "9d45318df4e423bfde4cf13a8527fc60",
     "grade": true,
     "grade_id": "cell-ad80affc47428f91",
     "locked": false,
     "points": 5,
     "schema_version": 3,
     "solution": true,
     "task": false
    }
   },
   "source": [
    "Yes, because each cell is a count over a disjoint group"
   ]
  },
  {
   "cell_type": "markdown",
   "metadata": {},
   "source": [
    "## Question 10\n",
    "\n",
    "Does the number of columns used in constructing the contingency table matter for privacy cost? Does it matter for accuracy?"
   ]
  },
  {
   "cell_type": "markdown",
   "metadata": {
    "deletable": false,
    "nbgrader": {
     "cell_type": "markdown",
     "checksum": "851d5bf06ada00ac761cf695bf3bb8ab",
     "grade": true,
     "grade_id": "cell-5dead8598d0dbda8",
     "locked": false,
     "points": 5,
     "schema_version": 3,
     "solution": true,
     "task": false
    }
   },
   "source": [
    "Privacy cost is not affected, but more groups means smaller datasets in each group, reducing accuracy"
   ]
  },
  {
   "cell_type": "markdown",
   "metadata": {},
   "source": [
    "## Question 11\n",
    "\n",
    "Implement the Gaussian mechanism for $(\\epsilon, \\delta)$-differential privacy."
   ]
  },
  {
   "cell_type": "code",
   "execution_count": 13,
   "metadata": {
    "deletable": false,
    "nbgrader": {
     "cell_type": "code",
     "checksum": "31d4967e3d4bf6c87e8f17c5a8869a92",
     "grade": false,
     "grade_id": "cell-8a747c92ab199a91",
     "locked": false,
     "schema_version": 3,
     "solution": true,
     "task": false
    },
    "ExecuteTime": {
     "end_time": "2023-12-09T19:54:42.813356700Z",
     "start_time": "2023-12-09T19:54:42.803339Z"
    }
   },
   "outputs": [],
   "source": [
    "def gaussian_mech(v, sensitivity, epsilon, delta):\n",
    "    return v + np.random.normal(loc=0, scale=sensitivity * np.sqrt(2*np.log(1.25/delta)) / epsilon)"
   ]
  },
  {
   "cell_type": "code",
   "execution_count": 14,
   "metadata": {
    "deletable": false,
    "editable": false,
    "nbgrader": {
     "cell_type": "code",
     "checksum": "1adc60d692e5bf0e529ed61ad082a8ac",
     "grade": true,
     "grade_id": "cell-f991d474ed13d0ed",
     "locked": true,
     "points": 5,
     "schema_version": 3,
     "solution": false,
     "task": false
    },
    "ExecuteTime": {
     "end_time": "2023-12-09T19:54:44.127640800Z",
     "start_time": "2023-12-09T19:54:43.894333300Z"
    }
   },
   "outputs": [
    {
     "name": "stdout",
     "output_type": "stream",
     "text": [
      "mean error: 0.05246059621529797\n"
     ]
    }
   ],
   "source": [
    "# TEST CASE\n",
    "\n",
    "results = [gaussian_mech(len(adult[adult['Age'] > 50]), 1, 1.0, 10e-5) for _ in range(100)]\n",
    "errors = [pct_error(len(adult[adult['Age'] > 50]), r) for r in results]\n",
    "print('mean error:', np.mean(errors))\n",
    "\n",
    "assert np.mean(errors) > 0\n",
    "assert np.mean(errors) < 2"
   ]
  },
  {
   "cell_type": "markdown",
   "metadata": {},
   "source": [
    "## Question 12\n",
    "\n",
    "How do the Laplace and Gaussian mechanisms compare in terms of relative error on the query \"how many individuals are over 50 years old\" with $\\epsilon = 1$ and $\\delta = 10^{-5}$?"
   ]
  },
  {
   "cell_type": "code",
   "execution_count": 15,
   "metadata": {
    "ExecuteTime": {
     "end_time": "2023-12-09T19:54:48.847152700Z",
     "start_time": "2023-12-09T19:54:48.590507300Z"
    }
   },
   "outputs": [
    {
     "data": {
      "text/plain": "<Figure size 640x480 with 1 Axes>",
      "image/png": "[encoded data removed]"
     },
     "metadata": {},
     "output_type": "display_data"
    }
   ],
   "source": [
    "true_answer = len(adult[adult['Age'] > 50])\n",
    "\n",
    "laplace_answers = [laplace_mech(true_answer, 1, 1) for _ in range(200)]\n",
    "gaussian_answers = [gaussian_mech(true_answer, 1, 1, 10e-5) for _ in range(200)]\n",
    "\n",
    "laplace_error = [pct_error(true_answer, a) for a in laplace_answers]\n",
    "gaussian_error = [pct_error(true_answer, a) for a in gaussian_answers]\n",
    "\n",
    "_, bins, _ = plt.hist(gaussian_error, bins=20, label='Gaussian')\n",
    "plt.hist(laplace_error, bins=bins, label='Laplace', alpha=0.5)\n",
    "plt.legend();"
   ]
  },
  {
   "cell_type": "markdown",
   "metadata": {
    "deletable": false,
    "nbgrader": {
     "cell_type": "markdown",
     "checksum": "1153ff5988a844b33435df5d8de63f06",
     "grade": true,
     "grade_id": "cell-aa96c49ecf1a6d2c",
     "locked": false,
     "points": 5,
     "schema_version": 3,
     "solution": true,
     "task": false
    }
   },
   "source": [
    "The Laplace mechanism seems better in terms of relative error."
   ]
  },
  {
   "cell_type": "markdown",
   "metadata": {},
   "source": [
    "## Not a Question - Just for reference\n",
    "\n",
    "[Reference](https://uvm-plaid.github.io/programming-dp/notebooks/ch6.html#the-gaussian-mechanism)"
   ]
  },
  {
   "cell_type": "code",
   "execution_count": 16,
   "metadata": {
    "ExecuteTime": {
     "end_time": "2023-12-09T19:55:32.101794400Z",
     "start_time": "2023-12-09T19:55:31.971894400Z"
    }
   },
   "outputs": [
    {
     "name": "stdout",
     "output_type": "stream",
     "text": [
      "e^epsilon = 2.718281828459045\n"
     ]
    },
    {
     "data": {
      "text/plain": "<Figure size 640x480 with 1 Axes>",
      "image/png": "[encoded data removed]"
     },
     "metadata": {},
     "output_type": "display_data"
    }
   ],
   "source": [
    "epsilon = 1\n",
    "sensitivity = 1\n",
    "delta = 1e-5\n",
    "sigma_squared = 2 * sensitivity**2 * np.log(1.25 / delta) / (epsilon**2)\n",
    "sigma = np.sqrt(sigma_squared)\n",
    "\n",
    "def gauss_pdf(x):\n",
    "    return 1/(sigma*np.sqrt(2*np.pi)) * np.exp(-(1/2)*(x/sigma)**2)\n",
    "\n",
    "xs = np.linspace(-50, 50, 200)\n",
    "ys1 = [gauss_pdf(x) for x in xs]\n",
    "ys2 = [gauss_pdf(x+1) for x in xs]\n",
    "\n",
    "plt.plot(xs,ys1)\n",
    "plt.plot(xs,ys2)\n",
    "\n",
    "# ratio < e^epsilon should hold\n",
    "print('e^epsilon =', np.exp(epsilon))\n",
    "ratios = [(x, y1 / y2) for x, y1, y2 in zip(xs, ys1, ys2)]\n",
    "#ratios"
   ]
  },
  {
   "cell_type": "code",
   "execution_count": 17,
   "metadata": {
    "ExecuteTime": {
     "end_time": "2023-12-09T19:55:33.910795200Z",
     "start_time": "2023-12-09T19:55:33.757779800Z"
    }
   },
   "outputs": [
    {
     "name": "stdout",
     "output_type": "stream",
     "text": [
      "e^epsilon = 2.718281828459045\n"
     ]
    },
    {
     "data": {
      "text/plain": "<Figure size 640x480 with 1 Axes>",
      "image/png": "[encoded data removed]"
     },
     "metadata": {},
     "output_type": "display_data"
    }
   ],
   "source": [
    "def laplace_pdf(x):\n",
    "    return (1/2)*epsilon * np.exp(-np.abs(x)*epsilon)\n",
    "\n",
    "xs = np.linspace(-50, 50, 200)\n",
    "ys1 = [laplace_pdf(x) for x in xs]\n",
    "ys2 = [laplace_pdf(x+1) for x in xs]\n",
    "\n",
    "plt.plot(xs,ys1)\n",
    "plt.plot(xs,ys2)\n",
    "\n",
    "# ratio < e^epsilon should hold\n",
    "print('e^epsilon =', np.exp(epsilon))\n",
    "ratios = [(x, y1 / y2) for x, y1, y2 in zip(xs, ys1, ys2)]\n",
    "#ratios"
   ]
  }
 ],
 "metadata": {
  "kernelspec": {
   "display_name": "Python 3 (ipykernel)",
   "language": "python",
   "name": "python3"
  },
  "language_info": {
   "codemirror_mode": {
    "name": "ipython",
    "version": 3
   },
   "file_extension": ".py",
   "mimetype": "text/x-python",
   "name": "python",
   "nbconvert_exporter": "python",
   "pygments_lexer": "ipython3",
   "version": "3.10.12"
  }
 },
 "nbformat": 4,
 "nbformat_minor": 4
}
