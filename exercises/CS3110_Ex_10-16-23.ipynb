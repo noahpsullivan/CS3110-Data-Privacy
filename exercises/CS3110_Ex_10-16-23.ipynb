{
 "cells": [
  {
   "cell_type": "markdown",
   "metadata": {},
   "source": [
    "# CS 3110/5110: Data Privacy\n",
    "## In-Class Exercise, week of 10/16/2023"
   ]
  },
  {
   "cell_type": "code",
   "execution_count": 1,
   "metadata": {
    "ExecuteTime": {
     "end_time": "2023-12-10T22:32:08.067489Z",
     "start_time": "2023-12-10T22:32:05.890692Z"
    }
   },
   "outputs": [],
   "source": [
    "# Load the data and libraries\n",
    "import pandas as pd\n",
    "import numpy as np\n",
    "from scipy import stats\n",
    "import matplotlib.pyplot as plt\n",
    "\n",
    "def laplace_mech(v, sensitivity, epsilon):\n",
    "    return v + np.random.laplace(loc=0, scale=sensitivity / epsilon)\n",
    "\n",
    "def gaussian_mech(v, sensitivity, epsilon, delta):\n",
    "    return v + np.random.normal(loc=0, scale=sensitivity * np.sqrt(2*np.log(1.25/delta)) / epsilon)\n",
    "\n",
    "def pct_error(orig, priv):\n",
    "    return np.abs(orig - priv)/orig * 100.0\n",
    "\n",
    "adult = pd.read_csv('https://github.com/jnear/cs3110-data-privacy/raw/main/homework/adult_with_pii.csv')"
   ]
  },
  {
   "cell_type": "code",
   "execution_count": 2,
   "metadata": {
    "ExecuteTime": {
     "end_time": "2023-12-10T22:32:08.077055300Z",
     "start_time": "2023-12-10T22:32:08.071800300Z"
    }
   },
   "outputs": [],
   "source": [
    "def gaussian_mech_RDP(val, sensitivity, alpha, epsilon):\n",
    "    sigma = np.sqrt((sensitivity**2 * alpha) / (2 * epsilon))\n",
    "    return val + np.random.normal(loc=0, scale=sigma)"
   ]
  },
  {
   "cell_type": "markdown",
   "metadata": {},
   "source": [
    "## Question 1\n",
    "\n",
    "Write a function to calculate the L1 **local sensitivity** of the following mean query."
   ]
  },
  {
   "cell_type": "code",
   "execution_count": 3,
   "metadata": {
    "ExecuteTime": {
     "end_time": "2023-12-10T22:32:12.635820500Z",
     "start_time": "2023-12-10T22:32:12.604825400Z"
    }
   },
   "outputs": [
    {
     "data": {
      "text/plain": "38.90494864612511"
     },
     "execution_count": 3,
     "metadata": {},
     "output_type": "execute_result"
    }
   ],
   "source": [
    "def mean_query():\n",
    "    b = 125\n",
    "    return adult['Age'][adult['Education'] == 'Bachelors'].clip(lower=0, upper=b).mean()\n",
    "\n",
    "mean_query()"
   ]
  },
  {
   "cell_type": "code",
   "execution_count": 4,
   "metadata": {
    "deletable": false,
    "nbgrader": {
     "cell_type": "code",
     "checksum": "a63b544858862861e2ec5ab49c028a1c",
     "grade": false,
     "grade_id": "cell-f39828c2d85af776",
     "locked": false,
     "schema_version": 3,
     "solution": true,
     "task": false
    },
    "ExecuteTime": {
     "end_time": "2023-12-10T22:32:36.444043800Z",
     "start_time": "2023-12-10T22:32:36.430965900Z"
    }
   },
   "outputs": [
    {
     "data": {
      "text/plain": "0.02333831217326363"
     },
     "execution_count": 4,
     "metadata": {},
     "output_type": "execute_result"
    }
   ],
   "source": [
    "def mean_query_local_sensitivity():\n",
    "    b = 125\n",
    "    return b / (len(adult['Age'][adult['Education'] == 'Bachelors']) + 1)\n",
    "\n",
    "mean_query_local_sensitivity()"
   ]
  },
  {
   "cell_type": "code",
   "execution_count": 5,
   "metadata": {
    "deletable": false,
    "editable": false,
    "nbgrader": {
     "cell_type": "code",
     "checksum": "b101503b7ddfa664f6601e5f04490f9b",
     "grade": true,
     "grade_id": "cell-f1bb755347650609",
     "locked": true,
     "points": 5,
     "schema_version": 3,
     "solution": false,
     "task": false
    },
    "ExecuteTime": {
     "end_time": "2023-12-10T22:32:39.377652500Z",
     "start_time": "2023-12-10T22:32:39.369325300Z"
    }
   },
   "outputs": [],
   "source": [
    "# TEST CASE\n",
    "assert (mean_query_local_sensitivity() - 0.02333831217326363) < 0.0001"
   ]
  },
  {
   "cell_type": "markdown",
   "metadata": {},
   "source": [
    "## Question 2\n",
    "\n",
    "Why can't we use the local sensitivity from question 1 directly to achieve differential privacy for `mean_query`?"
   ]
  },
  {
   "cell_type": "markdown",
   "metadata": {
    "deletable": false,
    "nbgrader": {
     "cell_type": "markdown",
     "checksum": "fc3fda729667f68b239065a6ee05e290",
     "grade": true,
     "grade_id": "cell-55d134a1eb26aec9",
     "locked": false,
     "points": 5,
     "schema_version": 3,
     "solution": true,
     "task": false
    }
   },
   "source": [
    "The local sensitivity is also sensitive - by being a max value it could reveal information about the dataset. "
   ]
  },
  {
   "cell_type": "markdown",
   "metadata": {},
   "source": [
    "## Question 3\n",
    "\n",
    "Implement an upper bound on $A(f, x, k)$, the local sensitivity of a mean query at distance $k$."
   ]
  },
  {
   "cell_type": "code",
   "execution_count": 6,
   "metadata": {
    "deletable": false,
    "nbgrader": {
     "cell_type": "code",
     "checksum": "9e14327b4e1bf23b23e65af9d22df4be",
     "grade": false,
     "grade_id": "cell-bfe45a4f5261718f",
     "locked": false,
     "schema_version": 3,
     "solution": true,
     "task": false
    },
    "ExecuteTime": {
     "end_time": "2023-12-10T22:33:25.407251700Z",
     "start_time": "2023-12-10T22:33:25.395594900Z"
    }
   },
   "outputs": [],
   "source": [
    "def ls_mean_at_distance(df, b, k):\n",
    "    return np.abs(b/(len(df) - k))"
   ]
  },
  {
   "cell_type": "code",
   "execution_count": 7,
   "metadata": {
    "deletable": false,
    "editable": false,
    "nbgrader": {
     "cell_type": "code",
     "checksum": "c729b90b3a0e3de6daa5ac422af23eb6",
     "grade": true,
     "grade_id": "cell-e19c35e52e3a15c0",
     "locked": true,
     "points": 5,
     "schema_version": 3,
     "solution": false,
     "task": false
    },
    "ExecuteTime": {
     "end_time": "2023-12-10T22:33:26.787691100Z",
     "start_time": "2023-12-10T22:33:26.782774100Z"
    }
   },
   "outputs": [],
   "source": [
    "# TEST CASE\n",
    "assert ls_mean_at_distance(adult['Age'], 125, 500) == 0.0038988178784192633\n",
    "assert ls_mean_at_distance(adult['Age'], 125, 5000) == 0.004535394216465295"
   ]
  },
  {
   "cell_type": "markdown",
   "metadata": {},
   "source": [
    "## Question 4\n",
    "\n",
    "Implement an upper bound on $D(f, x, s)$, the distance from $x$ to a database where the local sensitivity of the mean query is greater than or equal to $s$."
   ]
  },
  {
   "cell_type": "code",
   "execution_count": 8,
   "metadata": {
    "deletable": false,
    "nbgrader": {
     "cell_type": "code",
     "checksum": "6b6b1a61668426838a0f6127280da4d1",
     "grade": false,
     "grade_id": "cell-2750bb4f33a0b420",
     "locked": false,
     "schema_version": 3,
     "solution": true,
     "task": false
    },
    "ExecuteTime": {
     "end_time": "2023-12-10T22:36:50.556271Z",
     "start_time": "2023-12-10T22:36:50.552953300Z"
    }
   },
   "outputs": [],
   "source": [
    "def dist_to_high_ls_mean(df, b, s):\n",
    "    k = 0\n",
    "    \n",
    "    while ls_mean_at_distance(df, b, k) < s:\n",
    "        k += 1\n",
    "    \n",
    "    return k"
   ]
  },
  {
   "cell_type": "code",
   "execution_count": 9,
   "metadata": {
    "deletable": false,
    "editable": false,
    "nbgrader": {
     "cell_type": "code",
     "checksum": "1744a7532e5e40b214dc48f7dfeed2fd",
     "grade": true,
     "grade_id": "cell-77a206124ddb3baf",
     "locked": true,
     "points": 5,
     "schema_version": 3,
     "solution": false,
     "task": false
    },
    "ExecuteTime": {
     "end_time": "2023-12-10T22:36:51.922602400Z",
     "start_time": "2023-12-10T22:36:51.827802100Z"
    }
   },
   "outputs": [],
   "source": [
    "# TEST CASE\n",
    "assert dist_to_high_ls_mean(adult['Age'], 125, 0.1) == 31311 \n",
    "assert dist_to_high_ls_mean(adult['Age'], 125, 0.01) == 20061\n",
    "assert dist_to_high_ls_mean(adult['Age'], 125, 0.001) == 0"
   ]
  },
  {
   "cell_type": "markdown",
   "metadata": {},
   "source": [
    "## Question 5\n",
    "\n",
    "Use the Propose-Test-Release (PTR) framework to calculate the mean age in the adult dataset with differential privacy."
   ]
  },
  {
   "cell_type": "code",
   "execution_count": 10,
   "metadata": {
    "deletable": false,
    "nbgrader": {
     "cell_type": "code",
     "checksum": "e6f5e52256ad011f5879523441b6462d",
     "grade": false,
     "grade_id": "cell-62e95c3348999e9a",
     "locked": false,
     "schema_version": 3,
     "solution": true,
     "task": false
    },
    "ExecuteTime": {
     "end_time": "2023-12-10T22:37:08.300006800Z",
     "start_time": "2023-12-10T22:37:08.282037400Z"
    }
   },
   "outputs": [
    {
     "data": {
      "text/plain": "38.57141699332863"
     },
     "execution_count": 10,
     "metadata": {},
     "output_type": "execute_result"
    }
   ],
   "source": [
    "def mean_ptr(epsilon, delta):\n",
    "    clipped_ages = adult['Age'].clip(lower=0, upper=125)\n",
    "    proposal = 0.005\n",
    "\n",
    "    k = dist_to_high_ls_mean(clipped_ages, 125, proposal)\n",
    "\n",
    "    noisy_distance = laplace_mech(k, 1, epsilon)\n",
    "    threshold = np.log(2/delta)/(2*epsilon)\n",
    "    #print(noisy_distance, threshold)\n",
    "\n",
    "    if noisy_distance >= threshold:\n",
    "        return laplace_mech(clipped_ages.mean(), proposal, epsilon)\n",
    "    else:\n",
    "        return None\n",
    "\n",
    "mean_ptr(1.0, 10e-5)"
   ]
  },
  {
   "cell_type": "code",
   "execution_count": 11,
   "metadata": {
    "deletable": false,
    "editable": false,
    "nbgrader": {
     "cell_type": "code",
     "checksum": "1ebb4a2cb36fc47793f19dc8f5b4067a",
     "grade": true,
     "grade_id": "cell-efb8d6da908b8ae9",
     "locked": true,
     "points": 5,
     "schema_version": 3,
     "solution": false,
     "task": false
    },
    "ExecuteTime": {
     "end_time": "2023-12-10T22:37:10.416303Z",
     "start_time": "2023-12-10T22:37:10.164605700Z"
    }
   },
   "outputs": [],
   "source": [
    "# TEST CASE\n",
    "\n",
    "true_answer = adult['Age'].mean()\n",
    "trials = [mean_ptr(1.0, 10e-5) for _ in range(20)]\n",
    "errors = [pct_error(true_answer, x) for x in trials]\n",
    "assert np.mean(errors) < 1.0"
   ]
  },
  {
   "cell_type": "markdown",
   "metadata": {},
   "source": [
    "## Question 6\n",
    "\n",
    "Use the sample-and-aggregate framework to calculate the averge of ages in the adult dataset with differential privacy."
   ]
  },
  {
   "cell_type": "code",
   "execution_count": 12,
   "metadata": {
    "deletable": false,
    "nbgrader": {
     "cell_type": "code",
     "checksum": "dcba211d82454e826cc2b518b128a942",
     "grade": true,
     "grade_id": "cell-8afedb58ded17a79",
     "locked": false,
     "points": 5,
     "schema_version": 3,
     "solution": true,
     "task": false
    },
    "ExecuteTime": {
     "end_time": "2023-12-10T22:38:43.491204200Z",
     "start_time": "2023-12-10T22:38:43.433011400Z"
    }
   },
   "outputs": [
    {
     "data": {
      "text/plain": "39.16996210649353"
     },
     "execution_count": 12,
     "metadata": {},
     "output_type": "execute_result"
    }
   ],
   "source": [
    "def saa_avg_age(k, epsilon):\n",
    "    df = adult['Age']\n",
    "    \n",
    "    # Calculate the number of rows in each chunk\n",
    "    chunk_size = int(np.ceil(df.shape[0] / k))\n",
    "        \n",
    "    # Step 1: split `df` into chunks\n",
    "    xs      = [df[i:i+chunk_size] for i in range(0,df.shape[0],chunk_size)]\n",
    "    \n",
    "    # Step 2: run f on each x_i and clip its output\n",
    "    answers = [x_i.mean() for x_i in xs]\n",
    "    \n",
    "    u = 80\n",
    "    l = 20\n",
    "    clipped_answers = np.clip(answers, l, u)\n",
    "    \n",
    "    # Step 3: take the noisy mean of the clipped answers\n",
    "    noisy_mean = laplace_mech(np.mean(clipped_answers), (u-l)/k, epsilon)\n",
    "    return noisy_mean\n",
    "\n",
    "saa_avg_age(600, 1)    "
   ]
  },
  {
   "cell_type": "markdown",
   "metadata": {},
   "source": [
    "## Question 7\n",
    "\n",
    "What is the impact of the parameter `k`?"
   ]
  },
  {
   "cell_type": "markdown",
   "metadata": {
    "deletable": false,
    "nbgrader": {
     "cell_type": "markdown",
     "checksum": "4df7be71657062c57b91e5edfa815e26",
     "grade": true,
     "grade_id": "cell-6f57645dec8e7707",
     "locked": false,
     "points": 5,
     "schema_version": 3,
     "solution": true,
     "task": false
    }
   },
   "source": [
    "- `k` is related to sensitivity and accuracy. As `k` goes up sensitivity decreases, but the chunks get smaller so accuracy also decreases. The inverse is also true."
   ]
  },
  {
   "cell_type": "markdown",
   "metadata": {},
   "source": [
    "## Question 8\n",
    "\n",
    "Calculate the empirical *cumulative distribution function* of ages in the adult dataset. Use the RDP Gaussian mechanism."
   ]
  },
  {
   "cell_type": "code",
   "execution_count": 13,
   "metadata": {
    "deletable": false,
    "nbgrader": {
     "cell_type": "code",
     "checksum": "b6fc960f3402360a7bc52a719251ef78",
     "grade": true,
     "grade_id": "cell-ce242a7d80d36e05",
     "locked": false,
     "points": 5,
     "schema_version": 3,
     "solution": true,
     "task": false
    },
    "ExecuteTime": {
     "end_time": "2023-12-10T22:43:51.581941300Z",
     "start_time": "2023-12-10T22:43:50.990629200Z"
    }
   },
   "outputs": [
    {
     "data": {
      "text/plain": "<Figure size 640x480 with 1 Axes>",
      "image/png": "[encoded data removed]"
     },
     "metadata": {},
     "output_type": "display_data"
    }
   ],
   "source": [
    "def calculate_cdf():\n",
    "    alpha = 5\n",
    "    epsilon = 0.0001\n",
    "    \n",
    "    cdf_vals = []\n",
    "    for age in range(20, 80):\n",
    "        count = len(adult[adult['Age'] <= age])\n",
    "        noisy_count = gaussian_mech_RDP(count, 1, alpha, epsilon)\n",
    "        cdf_vals.append(noisy_count)\n",
    "    \n",
    "    return cdf_vals\n",
    "\n",
    "cdf_vals = calculate_cdf()\n",
    "plt.plot(range(20, 80), cdf_vals);"
   ]
  },
  {
   "cell_type": "markdown",
   "metadata": {},
   "source": [
    "## Question 9\n",
    "\n",
    "What is the *total privacy cost* in RDP of your solution above?"
   ]
  },
  {
   "cell_type": "markdown",
   "metadata": {
    "deletable": false,
    "nbgrader": {
     "cell_type": "markdown",
     "checksum": "66011a9bb25085fbf849ca23d681d892",
     "grade": true,
     "grade_id": "cell-234f1767c58fcaff",
     "locked": false,
     "points": 5,
     "schema_version": 3,
     "solution": true,
     "task": false
    }
   },
   "source": [
    "The total privacy cost is $(\\alpha, \\bar\\epsilon)$, where $\\alpha = 5$ and $\\bar\\epsilon = 60 * 0.0001$, by sequential composition."
   ]
  },
  {
   "cell_type": "markdown",
   "metadata": {},
   "source": [
    "## Question 10\n",
    "\n",
    "What is the *total privacy cost* in $(\\epsilon, \\delta)$-differential privacy of your solution above, for $\\delta = 10^{-5}$?"
   ]
  },
  {
   "cell_type": "markdown",
   "metadata": {
    "deletable": false,
    "nbgrader": {
     "cell_type": "markdown",
     "checksum": "ea39a2395bec967af44baa74c6ab5d99",
     "grade": true,
     "grade_id": "cell-f492eea07aa320fc",
     "locked": false,
     "points": 5,
     "schema_version": 3,
     "solution": true,
     "task": false
    }
   },
   "source": [
    "The total privacy cost is $(\\epsilon, \\delta)$, where $\\epsilon = 1.256$"
   ]
  },
  {
   "cell_type": "markdown",
   "metadata": {},
   "source": [
    "## Question 11\n",
    "\n",
    "Repeat question 3, but for zero-concentrated differential privacy."
   ]
  },
  {
   "cell_type": "code",
   "execution_count": 14,
   "metadata": {
    "deletable": false,
    "nbgrader": {
     "cell_type": "code",
     "checksum": "ba7a741ebf3d69e39ba28183ad098c75",
     "grade": true,
     "grade_id": "cell-1854b003d5ab2ebf",
     "locked": false,
     "points": 5,
     "schema_version": 3,
     "solution": true,
     "task": false
    },
    "ExecuteTime": {
     "end_time": "2023-12-10T22:45:57.718641100Z",
     "start_time": "2023-12-10T22:45:57.419582200Z"
    }
   },
   "outputs": [
    {
     "data": {
      "text/plain": "<Figure size 640x480 with 1 Axes>",
      "image/png": "[encoded data removed]"
     },
     "metadata": {},
     "output_type": "display_data"
    }
   ],
   "source": [
    "def gaussian_mech_zCDP(val, sensitivity, rho):\n",
    "    sigma = np.sqrt((sensitivity**2) / (2 * rho))\n",
    "    return val + np.random.normal(loc=0, scale=sigma)\n",
    "\n",
    "def calculate_cdf_zcdp():\n",
    "    rho = 0.00001\n",
    "    \n",
    "    cdf_vals = []\n",
    "    for age in range(20, 80):\n",
    "        count = len(adult[adult['Age'] <= age])\n",
    "        noisy_count = gaussian_mech_zCDP(count, 1, rho)\n",
    "        cdf_vals.append(noisy_count)\n",
    "    \n",
    "    return cdf_vals\n",
    "\n",
    "cdf_vals = calculate_cdf_zcdp()\n",
    "plt.plot(range(20, 80), cdf_vals);"
   ]
  }
 ],
 "metadata": {
  "kernelspec": {
   "display_name": "Python 3 (ipykernel)",
   "language": "python",
   "name": "python3"
  },
  "language_info": {
   "codemirror_mode": {
    "name": "ipython",
    "version": 3
   },
   "file_extension": ".py",
   "mimetype": "text/x-python",
   "name": "python",
   "nbconvert_exporter": "python",
   "pygments_lexer": "ipython3",
   "version": "3.10.12"
  }
 },
 "nbformat": 4,
 "nbformat_minor": 4
}
